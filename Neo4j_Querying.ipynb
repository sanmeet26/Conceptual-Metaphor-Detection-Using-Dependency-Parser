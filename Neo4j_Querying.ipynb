{
 "cells": [
  {
   "cell_type": "code",
   "execution_count": 1,
   "id": "c6e102ed",
   "metadata": {},
   "outputs": [
    {
     "name": "stdout",
     "output_type": "stream",
     "text": [
      "Collecting neo4j\n",
      "  Downloading neo4j-5.8.0.tar.gz (187 kB)\n",
      "  Installing build dependencies: started\n",
      "  Installing build dependencies: finished with status 'done'\n",
      "  Getting requirements to build wheel: started\n",
      "  Getting requirements to build wheel: finished with status 'done'\n",
      "  Installing backend dependencies: started\n",
      "  Installing backend dependencies: finished with status 'done'\n",
      "    Preparing wheel metadata: started\n",
      "    Preparing wheel metadata: finished with status 'done'\n",
      "Requirement already satisfied: pytz in c:\\users\\sanmeet\\anaconda3\\lib\\site-packages (from neo4j) (2021.3)\n",
      "Building wheels for collected packages: neo4j\n",
      "  Building wheel for neo4j (PEP 517): started\n",
      "  Building wheel for neo4j (PEP 517): finished with status 'done'\n",
      "  Created wheel for neo4j: filename=neo4j-5.8.0-py3-none-any.whl size=258422 sha256=040e9c59618f8c4c586d3ef619247714d160651fd5662877d3d8dfda39732c9e\n",
      "  Stored in directory: c:\\users\\sanmeet\\appdata\\local\\pip\\cache\\wheels\\3e\\ef\\4c\\a91599f59166356b3942580360be2362563a7a97c877d018ca\n",
      "Successfully built neo4j\n",
      "Installing collected packages: neo4j\n",
      "Successfully installed neo4j-5.8.0\n"
     ]
    }
   ],
   "source": [
    "!pip install neo4j"
   ]
  },
  {
   "cell_type": "code",
   "execution_count": 1,
   "id": "42170a23",
   "metadata": {},
   "outputs": [
    {
     "name": "stdout",
     "output_type": "stream",
     "text": [
      "5.8.0\n"
     ]
    }
   ],
   "source": [
    "from neo4j import __version__ as neo4j_version\n",
    "from pandas import DataFrame\n",
    "print(neo4j_version)"
   ]
  },
  {
   "cell_type": "code",
   "execution_count": 2,
   "id": "fb3bb3e8",
   "metadata": {},
   "outputs": [],
   "source": [
    "from neo4j import GraphDatabase"
   ]
  },
  {
   "cell_type": "code",
   "execution_count": 3,
   "id": "69596ac9",
   "metadata": {},
   "outputs": [],
   "source": [
    "class Neo4jConnection:\n",
    "    \n",
    "    def __init__(self, uri, user, pwd):\n",
    "        self.__uri = uri\n",
    "        self.__user = user\n",
    "        self.__pwd = pwd\n",
    "        self.__driver = None\n",
    "        try:\n",
    "            self.__driver = GraphDatabase.driver(self.__uri, auth=(self.__user, self.__pwd))\n",
    "        except Exception as e:\n",
    "            print(\"Failed to create the driver:\", e)\n",
    "        \n",
    "    def close(self):\n",
    "        if self.__driver is not None:\n",
    "            self.__driver.close()\n",
    "        \n",
    "    def query(self, query, db=None):\n",
    "        assert self.__driver is not None, \"Driver not initialized!\"\n",
    "        session = None\n",
    "        response = None\n",
    "        try: \n",
    "            session = self.__driver.session(database=db) if db is not None else self.__driver.session() \n",
    "            response = list(session.run(query))\n",
    "        except Exception as e:\n",
    "            print(\"Query failed:\", e)\n",
    "        finally: \n",
    "            if session is not None:\n",
    "                session.close()\n",
    "        return response"
   ]
  },
  {
   "cell_type": "code",
   "execution_count": 4,
   "id": "4ca0cf20",
   "metadata": {},
   "outputs": [],
   "source": [
    "# create an instance of connection with the parameters\n",
    "conn = Neo4jConnection(uri=\"bolt://localhost:7687\", user=\"neo4j\", pwd=\"metaphorkb2\")"
   ]
  },
  {
   "cell_type": "code",
   "execution_count": 5,
   "id": "d53185b1",
   "metadata": {},
   "outputs": [
    {
     "data": {
      "text/html": [
       "<div>\n",
       "<style scoped>\n",
       "    .dataframe tbody tr th:only-of-type {\n",
       "        vertical-align: middle;\n",
       "    }\n",
       "\n",
       "    .dataframe tbody tr th {\n",
       "        vertical-align: top;\n",
       "    }\n",
       "\n",
       "    .dataframe thead th {\n",
       "        text-align: right;\n",
       "    }\n",
       "</style>\n",
       "<table border=\"1\" class=\"dataframe\">\n",
       "  <thead>\n",
       "    <tr style=\"text-align: right;\">\n",
       "      <th></th>\n",
       "      <th>t.value</th>\n",
       "      <th>attr.value</th>\n",
       "      <th>s.value</th>\n",
       "    </tr>\n",
       "  </thead>\n",
       "  <tbody>\n",
       "    <tr>\n",
       "      <th>0</th>\n",
       "      <td>idea</td>\n",
       "      <td>bright</td>\n",
       "      <td>shining star</td>\n",
       "    </tr>\n",
       "    <tr>\n",
       "      <th>1</th>\n",
       "      <td>opportunity</td>\n",
       "      <td>fleeting</td>\n",
       "      <td>shooting star</td>\n",
       "    </tr>\n",
       "    <tr>\n",
       "      <th>2</th>\n",
       "      <td>passing</td>\n",
       "      <td>fast</td>\n",
       "      <td>shooting star</td>\n",
       "    </tr>\n",
       "    <tr>\n",
       "      <th>3</th>\n",
       "      <td>aeroplane</td>\n",
       "      <td>quickly</td>\n",
       "      <td>shooting star</td>\n",
       "    </tr>\n",
       "    <tr>\n",
       "      <th>4</th>\n",
       "      <td>ardent face</td>\n",
       "      <td>out looking</td>\n",
       "      <td>star</td>\n",
       "    </tr>\n",
       "    <tr>\n",
       "      <th>5</th>\n",
       "      <td>engagement ring</td>\n",
       "      <td>sparkle</td>\n",
       "      <td>star</td>\n",
       "    </tr>\n",
       "    <tr>\n",
       "      <th>6</th>\n",
       "      <td>she</td>\n",
       "      <td>radiant</td>\n",
       "      <td>star</td>\n",
       "    </tr>\n",
       "    <tr>\n",
       "      <th>7</th>\n",
       "      <td>carrier</td>\n",
       "      <td>continuous</td>\n",
       "      <td>stars</td>\n",
       "    </tr>\n",
       "    <tr>\n",
       "      <th>8</th>\n",
       "      <td>faces</td>\n",
       "      <td>pale</td>\n",
       "      <td>evening stars</td>\n",
       "    </tr>\n",
       "    <tr>\n",
       "      <th>9</th>\n",
       "      <td>eyes</td>\n",
       "      <td>bright</td>\n",
       "      <td>blazing star</td>\n",
       "    </tr>\n",
       "    <tr>\n",
       "      <th>10</th>\n",
       "      <td>resort</td>\n",
       "      <td>luxurious</td>\n",
       "      <td>five star hotel</td>\n",
       "    </tr>\n",
       "    <tr>\n",
       "      <th>11</th>\n",
       "      <td>cost</td>\n",
       "      <td>lavish</td>\n",
       "      <td>five star hotel suite</td>\n",
       "    </tr>\n",
       "    <tr>\n",
       "      <th>12</th>\n",
       "      <td>meteor</td>\n",
       "      <td>blaze</td>\n",
       "      <td>brilliant star</td>\n",
       "    </tr>\n",
       "  </tbody>\n",
       "</table>\n",
       "</div>"
      ],
      "text/plain": [
       "            t.value   attr.value                s.value\n",
       "0              idea       bright           shining star\n",
       "1       opportunity     fleeting          shooting star\n",
       "2           passing         fast          shooting star\n",
       "3         aeroplane      quickly          shooting star\n",
       "4       ardent face  out looking                   star\n",
       "5   engagement ring      sparkle                   star\n",
       "6               she      radiant                   star\n",
       "7           carrier   continuous                  stars\n",
       "8             faces         pale          evening stars\n",
       "9              eyes       bright           blazing star\n",
       "10           resort    luxurious        five star hotel\n",
       "11             cost       lavish  five star hotel suite\n",
       "12           meteor        blaze         brilliant star"
      ]
     },
     "execution_count": 5,
     "metadata": {},
     "output_type": "execute_result"
    }
   ],
   "source": [
    "query_string = '''\n",
    "MATCH (s:SOURCE)-[attr:ATTRIBUTE]->(t:TARGET)\n",
    "WHERE s.value =~ '.*star.*'\n",
    "RETURN t.value, attr.value, s.value\n",
    "'''\n",
    "dtf_data = DataFrame([dict(_) for _ in conn.query(query_string, db='neo4j')])\n",
    "dtf_data"
   ]
  },
  {
   "cell_type": "code",
   "execution_count": 6,
   "id": "20d92441",
   "metadata": {},
   "outputs": [],
   "source": [
    "target = 'eye'\n",
    "source = 'diamond'"
   ]
  },
  {
   "cell_type": "code",
   "execution_count": 8,
   "id": "9715cdab",
   "metadata": {},
   "outputs": [
    {
     "name": "stdout",
     "output_type": "stream",
     "text": [
      "Possible Attributes for Target: eye and Source: diamond are:\n",
      "\n",
      "gleam\n",
      "sparkle\n"
     ]
    }
   ],
   "source": [
    "query_string = '''\n",
    "MATCH (s:SOURCE)-[attr:ATTRIBUTE]->(t:TARGET)\n",
    "WHERE t.value =~ '.*{target}.*' AND s.value =~ '.*{source}.*'\n",
    "RETURN t.value, attr.value, s.value\n",
    "'''.format(target=target, source=source)\n",
    "\n",
    "dtf_data = DataFrame([dict(_) for _ in conn.query(query_string, db='neo4j')])\n",
    "possible_attributes = set(dtf_data[\"attr.value\"])\n",
    "\n",
    "print(\"Possible Attributes for Target: {target} and Source: {source} are:\\n\".format(target=target, source=source))\n",
    "lst = list(possible_attributes)\n",
    "for i in range(len(lst)):\n",
    "    print(lst[i])"
   ]
  },
  {
   "cell_type": "code",
   "execution_count": 11,
   "id": "9d2347ff",
   "metadata": {},
   "outputs": [],
   "source": [
    "conn.close()"
   ]
  }
 ],
 "metadata": {
  "kernelspec": {
   "display_name": "Python 3 (ipykernel)",
   "language": "python",
   "name": "python3"
  },
  "language_info": {
   "codemirror_mode": {
    "name": "ipython",
    "version": 3
   },
   "file_extension": ".py",
   "mimetype": "text/x-python",
   "name": "python",
   "nbconvert_exporter": "python",
   "pygments_lexer": "ipython3",
   "version": "3.9.7"
  }
 },
 "nbformat": 4,
 "nbformat_minor": 5
}
