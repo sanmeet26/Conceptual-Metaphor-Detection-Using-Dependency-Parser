{
 "cells": [
  {
   "cell_type": "markdown",
   "id": "1a6e7388",
   "metadata": {},
   "source": [
    "# Case Study on sample sentence"
   ]
  },
  {
   "cell_type": "code",
   "execution_count": 40,
   "id": "62dd3c84",
   "metadata": {},
   "outputs": [],
   "source": [
    "sentence = \"The sky is as blue as ocean\""
   ]
  },
  {
   "cell_type": "markdown",
   "id": "360d298c",
   "metadata": {},
   "source": [
    "## Tokenization and POS Tagging"
   ]
  },
  {
   "cell_type": "code",
   "execution_count": 2,
   "id": "20b2b1db",
   "metadata": {},
   "outputs": [],
   "source": [
    "import nltk\n",
    "from nltk import *\n",
    "from nltk.tag.stanford import StanfordPOSTagger\n",
    "from nltk.tokenize import word_tokenize"
   ]
  },
  {
   "cell_type": "code",
   "execution_count": 41,
   "id": "df14fe24",
   "metadata": {},
   "outputs": [],
   "source": [
    "java_path = \"C:/Program Files/Java/jdk-18.0.1.1/bin/java.exe\"\n",
    "os.environ[\"JAVAHOME\"] = java_path\n",
    "\n",
    "jar = \"C:/Users/Public/utility/stanford-postagger-full-2020-11-17/stanford-postagger.jar\"\n",
    "model = \"C:/Users/Public/utility/stanford-postagger-full-2020-11-17/models/english-bidirectional-distsim.tagger\""
   ]
  },
  {
   "cell_type": "code",
   "execution_count": 42,
   "id": "104656db",
   "metadata": {},
   "outputs": [],
   "source": [
    "pos_tagger = StanfordPOSTagger(model, jar, encoding = \"utf-8\")"
   ]
  },
  {
   "cell_type": "code",
   "execution_count": 43,
   "id": "2021490d",
   "metadata": {},
   "outputs": [
    {
     "name": "stdout",
     "output_type": "stream",
     "text": [
      "['The', 'sky', 'is', 'as', 'blue', 'as', 'ocean']\n"
     ]
    }
   ],
   "source": [
    "# Tokenization\n",
    "words = nltk.word_tokenize(sentence)\n",
    "print(words)"
   ]
  },
  {
   "cell_type": "code",
   "execution_count": 44,
   "id": "fe1f7d3b",
   "metadata": {},
   "outputs": [
    {
     "name": "stdout",
     "output_type": "stream",
     "text": [
      "[('The', 'DT'), ('sky', 'NN'), ('is', 'VBZ'), ('as', 'RB'), ('blue', 'JJ'), ('as', 'IN'), ('ocean', 'NN')]\n"
     ]
    }
   ],
   "source": [
    "tagged_words = pos_tagger.tag(words)\n",
    "print(tagged_words)"
   ]
  },
  {
   "cell_type": "markdown",
   "id": "a4e3a875",
   "metadata": {},
   "source": [
    "## Dependency Parsing"
   ]
  },
  {
   "cell_type": "code",
   "execution_count": 7,
   "id": "6b80c6bf",
   "metadata": {},
   "outputs": [],
   "source": [
    "from nltk.parse.stanford import StanfordDependencyParser"
   ]
  },
  {
   "cell_type": "code",
   "execution_count": 45,
   "id": "0426c12c",
   "metadata": {},
   "outputs": [],
   "source": [
    "# Path to CoreNLP jar unzipped\n",
    "jar_path = 'C:/Users/Public/utility/stanford-corenlp-4.2.2/stanford-corenlp-4.2.2.jar'\n",
    "\n",
    "# Path to CoreNLP model jar\n",
    "models_jar_path = 'C:/Users/Public/utility/stanford-corenlp-4.2.2-models-english.jar'"
   ]
  },
  {
   "cell_type": "code",
   "execution_count": 46,
   "id": "cc490729",
   "metadata": {},
   "outputs": [
    {
     "name": "stdout",
     "output_type": "stream",
     "text": [
      "The sky is as blue as ocean\n"
     ]
    }
   ],
   "source": [
    "print(sentence)"
   ]
  },
  {
   "cell_type": "code",
   "execution_count": 47,
   "id": "28481176",
   "metadata": {},
   "outputs": [
    {
     "name": "stderr",
     "output_type": "stream",
     "text": [
      "C:\\Users\\sanmeet\\AppData\\Local\\Temp/ipykernel_5388/3030454391.py:1: DeprecationWarning: The StanfordDependencyParser will be deprecated\n",
      "Please use \u001b[91mnltk.parse.corenlp.CoreNLPDependencyParser\u001b[0m instead.\n",
      "  parser = StanfordDependencyParser(path_to_jar = jar_path, path_to_models_jar = models_jar_path)\n"
     ]
    }
   ],
   "source": [
    "parser = StanfordDependencyParser(path_to_jar = jar_path, path_to_models_jar = models_jar_path)"
   ]
  },
  {
   "cell_type": "code",
   "execution_count": 48,
   "id": "68bf698a",
   "metadata": {},
   "outputs": [],
   "source": [
    "# Parse the sentence\n",
    "result = parser.raw_parse(sentence)\n",
    "dependency = result.__next__()"
   ]
  },
  {
   "cell_type": "code",
   "execution_count": 49,
   "id": "9e03feeb",
   "metadata": {},
   "outputs": [
    {
     "name": "stdout",
     "output_type": "stream",
     "text": [
      "defaultdict(<function DependencyGraph.__init__.<locals>.<lambda> at 0x0000027B117EA280>,\n",
      "            {0: {'address': 0,\n",
      "                 'ctag': 'TOP',\n",
      "                 'deps': defaultdict(<class 'list'>, {'root': [5]}),\n",
      "                 'feats': None,\n",
      "                 'head': None,\n",
      "                 'lemma': None,\n",
      "                 'rel': None,\n",
      "                 'tag': 'TOP',\n",
      "                 'word': None},\n",
      "             1: {'address': 1,\n",
      "                 'ctag': 'DT',\n",
      "                 'deps': defaultdict(<class 'list'>, {}),\n",
      "                 'feats': '_',\n",
      "                 'head': 2,\n",
      "                 'lemma': '_',\n",
      "                 'rel': 'det',\n",
      "                 'tag': 'DT',\n",
      "                 'word': 'The'},\n",
      "             2: {'address': 2,\n",
      "                 'ctag': 'NN',\n",
      "                 'deps': defaultdict(<class 'list'>, {'det': [1]}),\n",
      "                 'feats': '_',\n",
      "                 'head': 5,\n",
      "                 'lemma': '_',\n",
      "                 'rel': 'nsubj',\n",
      "                 'tag': 'NN',\n",
      "                 'word': 'sky'},\n",
      "             3: {'address': 3,\n",
      "                 'ctag': 'VBZ',\n",
      "                 'deps': defaultdict(<class 'list'>, {}),\n",
      "                 'feats': '_',\n",
      "                 'head': 5,\n",
      "                 'lemma': '_',\n",
      "                 'rel': 'cop',\n",
      "                 'tag': 'VBZ',\n",
      "                 'word': 'is'},\n",
      "             4: {'address': 4,\n",
      "                 'ctag': 'RB',\n",
      "                 'deps': defaultdict(<class 'list'>, {}),\n",
      "                 'feats': '_',\n",
      "                 'head': 5,\n",
      "                 'lemma': '_',\n",
      "                 'rel': 'advmod',\n",
      "                 'tag': 'RB',\n",
      "                 'word': 'as'},\n",
      "             5: {'address': 5,\n",
      "                 'ctag': 'JJ',\n",
      "                 'deps': defaultdict(<class 'list'>,\n",
      "                                     {'advmod': [4],\n",
      "                                      'cop': [3],\n",
      "                                      'nsubj': [2],\n",
      "                                      'obl': [7]}),\n",
      "                 'feats': '_',\n",
      "                 'head': 0,\n",
      "                 'lemma': '_',\n",
      "                 'rel': 'root',\n",
      "                 'tag': 'JJ',\n",
      "                 'word': 'blue'},\n",
      "             6: {'address': 6,\n",
      "                 'ctag': 'IN',\n",
      "                 'deps': defaultdict(<class 'list'>, {}),\n",
      "                 'feats': '_',\n",
      "                 'head': 7,\n",
      "                 'lemma': '_',\n",
      "                 'rel': 'case',\n",
      "                 'tag': 'IN',\n",
      "                 'word': 'as'},\n",
      "             7: {'address': 7,\n",
      "                 'ctag': 'NN',\n",
      "                 'deps': defaultdict(<class 'list'>, {'case': [6]}),\n",
      "                 'feats': '_',\n",
      "                 'head': 5,\n",
      "                 'lemma': '_',\n",
      "                 'rel': 'obl',\n",
      "                 'tag': 'NN',\n",
      "                 'word': 'ocean'}})\n"
     ]
    }
   ],
   "source": [
    "print(dependency)"
   ]
  },
  {
   "cell_type": "code",
   "execution_count": 13,
   "id": "4d4b1ef9",
   "metadata": {},
   "outputs": [],
   "source": [
    "import pandas as pd"
   ]
  },
  {
   "cell_type": "code",
   "execution_count": 50,
   "id": "1bf611aa",
   "metadata": {},
   "outputs": [
    {
     "name": "stdout",
     "output_type": "stream",
     "text": [
      "Head            | Head POS   | Relation   | Dependent       | Dependent POS\n",
      "---------------------------------------------------------------------------\n",
      "blue            | JJ         | nsubj      | sky             | NN        \n",
      "sky             | NN         | det        | The             | DT        \n",
      "blue            | JJ         | cop        | is              | VBZ       \n",
      "blue            | JJ         | advmod     | as              | RB        \n",
      "blue            | JJ         | obl        | ocean           | NN        \n",
      "ocean           | NN         | case       | as              | IN        \n"
     ]
    }
   ],
   "source": [
    "df_dep_parsed = pd.DataFrame(columns=['Head','Head POS','Relation','Dependent','Dependent POS'])\n",
    "print (\"{:<15} | {:<10} | {:<10} | {:<15} | {:<10}\".format('Head', 'Head POS','Relation','Dependent', 'Dependent POS'))\n",
    "print (\"-\" * 75)\n",
    "\n",
    "# Use dependency.triples() to extract the dependency triples in the form\n",
    "# ((head word, head POS), relation, (dependent word, dependent POS))  \n",
    "for dep in list(dependency.triples()):\n",
    "    row = {'Head':str(dep[0][0]),'Head POS':str(dep[0][1]),'Relation':str(dep[1]),'Dependent':str(dep[2][0]),'Dependent POS':str(dep[2][1])}\n",
    "    df_dep_parsed = df_dep_parsed.append(row, ignore_index=True)\n",
    "    print(\"{:<15} | {:<10} | {:<10} | {:<15} | {:<10}\"\n",
    "         .format(str(dep[0][0]),str(dep[0][1]), str(dep[1]), str(dep[2][0]),str(dep[2][1])))"
   ]
  },
  {
   "cell_type": "markdown",
   "id": "7652c96c",
   "metadata": {},
   "source": [
    "### Visualize Dependency Parsing "
   ]
  },
  {
   "cell_type": "code",
   "execution_count": 51,
   "id": "8504bd43",
   "metadata": {},
   "outputs": [
    {
     "data": {
      "image/png": "[encoded data removed]",
      "text/plain": [
       "<Figure size 1008x504 with 1 Axes>"
      ]
     },
     "metadata": {},
     "output_type": "display_data"
    }
   ],
   "source": [
    "# importing networkx\n",
    "import networkx as nx\n",
    "import matplotlib.pyplot as plt\n",
    "# Using reverse() to reverse the direction of edges as nx_graph() returns inverted edges\n",
    "G = dependency.nx_graph().reverse()\n",
    "# Create a dictionary to map numeric nodes and words in the sentence\n",
    "words = sentence.split(\" \")\n",
    "labels = {index + 1: words[index] for index in range(len(words))}\n",
    "# nx.draw(G, with_labels=True, labels=labels, node_size=2500, node_color='#B5EAD7', font_size=10)\n",
    "plt.figure(3,figsize=(14,7)) \n",
    "nx.draw_networkx(G, with_labels=True, labels=labels, node_size=2500, node_color='#dad6d7', font_size=12)"
   ]
  },
  {
   "cell_type": "code",
   "execution_count": 52,
   "id": "ed5a098b",
   "metadata": {},
   "outputs": [
    {
     "name": "stdout",
     "output_type": "stream",
     "text": [
      "Requirement already satisfied: graphviz in c:\\users\\sanmeet\\anaconda3\\lib\\site-packages (0.20.1)\n",
      "digraph G{\n",
      "edge [dir=forward]\n",
      "node [shape=plaintext]\n",
      "\n",
      "0 [label=\"0 (None)\"]\n",
      "0 -> 5 [label=\"root\"]\n",
      "1 [label=\"1 (The)\"]\n",
      "2 [label=\"2 (sky)\"]\n",
      "2 -> 1 [label=\"det\"]\n",
      "3 [label=\"3 (is)\"]\n",
      "4 [label=\"4 (as)\"]\n",
      "5 [label=\"5 (blue)\"]\n",
      "5 -> 2 [label=\"nsubj\"]\n",
      "5 -> 3 [label=\"cop\"]\n",
      "5 -> 4 [label=\"advmod\"]\n",
      "5 -> 7 [label=\"obl\"]\n",
      "6 [label=\"6 (as)\"]\n",
      "7 [label=\"7 (ocean)\"]\n",
      "7 -> 6 [label=\"case\"]\n",
      "}\n"
     ]
    },
    {
     "data": {
      "text/plain": [
       "'dependency_graph.png'"
      ]
     },
     "execution_count": 52,
     "metadata": {},
     "output_type": "execute_result"
    }
   ],
   "source": [
    "!pip install graphviz\n",
    "from graphviz import Source\n",
    "dot_def = dependency.to_dot()\n",
    "print(dot_def)\n",
    "\n",
    "source = Source(dot_def, filename=\"dependency_graph\", format=\"png\")\n",
    "source.view()"
   ]
  },
  {
   "cell_type": "markdown",
   "id": "b17321b9",
   "metadata": {},
   "source": [
    "## Concept-Attribute Collocations"
   ]
  },
  {
   "cell_type": "code",
   "execution_count": 53,
   "id": "387e9824",
   "metadata": {},
   "outputs": [],
   "source": [
    "# POS labels of nouns, pronouns, adjectives and verbs\n",
    "nouns = ['NN', 'NNP', 'NNS', 'NNPS']\n",
    "pronouns = ['PRP', 'PRP$']\n",
    "adjectives = ['JJ', 'JJR', 'JJS']\n",
    "verbs = ['VB', 'VBD', 'VBG', 'VBN', 'VBP', 'VBZ']"
   ]
  },
  {
   "cell_type": "code",
   "execution_count": 54,
   "id": "ccea4b75",
   "metadata": {},
   "outputs": [
    {
     "name": "stdout",
     "output_type": "stream",
     "text": [
      "  Concept Attribute\n",
      "0     sky      blue\n",
      "1   ocean      blue\n"
     ]
    }
   ],
   "source": [
    "verb_to_noun = []\n",
    "adj_to_noun = []\n",
    "verb_to_adj = []\n",
    "noun_to_adj = []\n",
    "\n",
    "noun_and_adj = []\n",
    "\n",
    "index = 1\n",
    "\n",
    "def composition_of_pattern(lst1, lst2):\n",
    "    result = []\n",
    "    for x in lst1:\n",
    "        for y in lst2:\n",
    "            if x[\"Head\"] == y[\"Head\"] and x[\"Head POS\"] == y[\"Head POS\"]:\n",
    "                result.append(pandas.Series({\"Sr.No.\":x[\"Sr.No.\"], \"Dependent1\":x[\"Dependent\"], \"Dependent1 POS\":x[\"Dependent POS\"], \"Relation\":\"SBV_VOB\", \"Common Verb\": x[\"Head\"], \"Common Verb POS\": x[\"Head POS\"], \"Dependent2\":y[\"Dependent\"], \"Dependent2 POS\":y[\"Dependent POS\"]}))\n",
    "\n",
    "    for item in result:\n",
    "        for x in lst1:\n",
    "            if item[\"Common Verb\"] == x[\"Head\"] and item[\"Common Verb POS\"] == x[\"Head POS\"] and item[\"Dependent1\"] == x[\"Dependent\"] and item[\"Dependent1 POS\"] == x[\"Dependent POS\"]:\n",
    "                if not bool(lst1):\n",
    "                    lst1.remove(x)\n",
    "        for y in lst2:\n",
    "            if item[\"Common Verb\"] == y[\"Head\"] and item[\"Common Verb POS\"] == y[\"Head POS\"] and item[\"Dependent2\"] == y[\"Dependent\"] and item[\"Dependent2 POS\"] == y[\"Dependent POS\"]:\n",
    "                if not bool(lst2):\n",
    "                    lst2.remove(y)\n",
    "                    \n",
    "    return result\n",
    "\n",
    "collocations = pd.DataFrame(columns=['Concept','Attribute'])\n",
    "item = df_dep_parsed\n",
    "\n",
    "for i in range(item.shape[0]):\n",
    "    if item.loc[i][\"Head POS\"] in verbs and (item.loc[i][\"Dependent POS\"] in nouns or item.loc[i][\"Dependent POS\"] in pronouns):\n",
    "        verb_to_noun.append(item.loc[i])\n",
    "    if item.loc[i][\"Head POS\"] in adjectives and (item.loc[i][\"Dependent POS\"] in nouns or item.loc[i][\"Dependent POS\"] in pronouns):\n",
    "        adj_to_noun.append(item.loc[i])\n",
    "    if item.loc[i][\"Head POS\"] in verbs and item.loc[i][\"Dependent POS\"] in adjectives:\n",
    "        verb_to_adj.append(item.loc[i])\n",
    "    if (item.loc[i][\"Head POS\"] in nouns or item.loc[i][\"Head POS\"] in pronouns) and item.loc[i][\"Dependent POS\"] in adjectives:\n",
    "        noun_to_adj.append(item.loc[i])\n",
    "\n",
    "noun_and_adj = composition_of_pattern(verb_to_noun, verb_to_adj)\n",
    "\n",
    "# Head: Verb, Dependent: Noun\n",
    "for m in verb_to_noun:\n",
    "    collocations=collocations.append({'Concept':m[\"Dependent\"].lower(),'Attribute':m[\"Head\"].lower()},ignore_index=True)\n",
    "\n",
    "# Head: Adjective, Dependent: Noun\n",
    "for m in adj_to_noun:\n",
    "    row = {'Concept':m[\"Dependent\"].lower(),'Attribute':m[\"Head\"].lower()}\n",
    "    collocations=collocations.append(row,ignore_index=True)\n",
    "\n",
    "#     # Head: Verb, Dependent: Adjective\n",
    "#     for m in verb_to_adj:\n",
    "#         sheet21.write(index, 0, m[\"Dependent\"].lower())\n",
    "#         sheet21.write(index, 1, m[\"Head\"].lower())\n",
    "#         index += 1\n",
    "\n",
    "# Head: Noun, Dependent: Adjective\n",
    "for m in noun_to_adj:\n",
    "    collocations=collocations.append({'Concept':m[\"Head\"].lower(),'Attribute':m[\"Dependent\"].lower()},ignore_index=True)\n",
    "\n",
    "for m in noun_and_adj:\n",
    "    collocations=collocations.append({'Concept':m[\"Dependent1\"].lower(),'Attribute':m[\"Dependent2\"].lower()},ignore_index=True)\n",
    "    \n",
    "print(collocations)"
   ]
  },
  {
   "cell_type": "markdown",
   "id": "5ef5ef5b",
   "metadata": {},
   "source": [
    "## Creating Knowledge Graph Triple"
   ]
  },
  {
   "cell_type": "code",
   "execution_count": 19,
   "id": "dca6b143",
   "metadata": {},
   "outputs": [],
   "source": [
    "import spacy"
   ]
  },
  {
   "cell_type": "code",
   "execution_count": 20,
   "id": "d6b12256",
   "metadata": {},
   "outputs": [],
   "source": [
    "nlp = spacy.load(\"en_core_web_sm\")"
   ]
  },
  {
   "cell_type": "code",
   "execution_count": 55,
   "id": "858de80d",
   "metadata": {},
   "outputs": [],
   "source": [
    "all_stopwords = nlp.Defaults.stop_words\n",
    "# print(all_stopwords)"
   ]
  },
  {
   "cell_type": "code",
   "execution_count": 56,
   "id": "27fe6f09",
   "metadata": {},
   "outputs": [],
   "source": [
    "# get noun chunks\n",
    "def get_noun_phrase(sentence):\n",
    "    nlp = spacy.load(\"en_core_web_sm\")\n",
    "    nlp_sentence = nlp(sentence)\n",
    "    chunks = list(nlp_sentence.noun_chunks)\n",
    "    return chunks"
   ]
  },
  {
   "cell_type": "code",
   "execution_count": 57,
   "id": "db614e5a",
   "metadata": {},
   "outputs": [],
   "source": [
    "helping_verbs = ['be', 'can', 'could', 'dare', 'do', 'have', 'may', 'might', 'must', 'need', 'ought', 'shall', 'should', 'will', 'would']"
   ]
  },
  {
   "cell_type": "code",
   "execution_count": 58,
   "id": "73b5427e",
   "metadata": {},
   "outputs": [
    {
     "name": "stdout",
     "output_type": "stream",
     "text": [
      "The sky is as blue as ocean\n"
     ]
    }
   ],
   "source": [
    "print(sentence)"
   ]
  },
  {
   "cell_type": "code",
   "execution_count": 59,
   "id": "0ef023d8",
   "metadata": {},
   "outputs": [
    {
     "name": "stdout",
     "output_type": "stream",
     "text": [
      "Target: sky\n",
      "Attribute: blue\n",
      "Source: ocean\n"
     ]
    }
   ],
   "source": [
    "target = \"\"\n",
    "attribute = \"\"\n",
    "source = \"\"\n",
    "\n",
    "sentence = sentence.lower()\n",
    "        \n",
    "# for simile sentences having 'as' as a comparator\n",
    "if sentence.count(' as ') == 2:\n",
    "    start = sentence.find(' as ')\n",
    "    end = sentence.rfind(' as ')\n",
    "\n",
    "    # +4 for skipping ' as '\n",
    "    attribute = sentence[start+4:end].strip()\n",
    "\n",
    "    target_noun_phrases = get_noun_phrase(sentence[:start])\n",
    "    source_noun_phrases = get_noun_phrase(sentence[end+4:])\n",
    "\n",
    "    if(len(target_noun_phrases) == 0):\n",
    "        words = nltk.word_tokenize(sentence[:start])\n",
    "        tagged_words = pos_tagger.tag(words)\n",
    "        for each in tagged_words:\n",
    "            if each[1] in nouns or each[1] in pronouns:\n",
    "                target = each[0]\n",
    "    else:\n",
    "        target_noun_phrases_lst = word_tokenize(str(target_noun_phrases[0]).strip())\n",
    "        if len(target_noun_phrases_lst) > 1:\n",
    "            target_noun_phrases_lst_without_sw = [word for word in target_noun_phrases_lst if not word in all_stopwords]\n",
    "            target = ' '.join(target_noun_phrases_lst_without_sw)\n",
    "        else:\n",
    "            target = target_noun_phrases_lst[0]\n",
    "    if(len(source_noun_phrases) == 0):\n",
    "        words = nltk.word_tokenize(sentence[end+4:])\n",
    "        tagged_words = pos_tagger.tag(words)\n",
    "        for each in tagged_words:\n",
    "            if each[1] in nouns or each[1] in pronouns:\n",
    "                source = each[0]\n",
    "    else:\n",
    "        source_noun_phrases_lst = word_tokenize(str(source_noun_phrases[0]).strip())\n",
    "        if len(source_noun_phrases_lst) > 1:\n",
    "            source_noun_phrases_lst_without_sw = [word for word in source_noun_phrases_lst if not word in all_stopwords]\n",
    "            source = ' '.join(source_noun_phrases_lst_without_sw)\n",
    "        else:\n",
    "            source = source_noun_phrases_lst[0]\n",
    "\n",
    "# for simile sentences having 'like' as a comparator\n",
    "if sentence.count(' like ') == 1:\n",
    "    like_index = sentence.find(' like ')\n",
    "    before_like = sentence[:like_index]\n",
    "    after_like = sentence[like_index+6:]\n",
    "\n",
    "    words = nltk.word_tokenize(before_like)\n",
    "    tagged_words = pos_tagger.tag(words)\n",
    "\n",
    "    for each in tagged_words:\n",
    "        if each[1] in adjectives:\n",
    "            attribute = each[0]\n",
    "        elif each[1] in verbs:\n",
    "            present_form = WordNetLemmatizer().lemmatize(each[0],'v')\n",
    "            if present_form not in helping_verbs:\n",
    "                attribute = present_form\n",
    "\n",
    "    attribute_index = before_like.find(attribute)\n",
    "    target_noun_phrases = get_noun_phrase(before_like[:attribute_index])\n",
    "    source_noun_phrases = get_noun_phrase(after_like)\n",
    "\n",
    "    if(len(target_noun_phrases) == 0):\n",
    "        words = nltk.word_tokenize(before_like[:attribute_index])\n",
    "        tagged_words = pos_tagger.tag(words)\n",
    "        for each in tagged_words:\n",
    "            if each[1] in nouns or each[1] in pronouns:\n",
    "                target = each[0]\n",
    "    else:\n",
    "        target_noun_phrases_lst = word_tokenize(str(target_noun_phrases[0]).strip())\n",
    "        if len(target_noun_phrases_lst) > 1:\n",
    "            target_noun_phrases_lst_without_sw = [word for word in target_noun_phrases_lst if not word in all_stopwords]\n",
    "            target = ' '.join(target_noun_phrases_lst_without_sw)\n",
    "        else:\n",
    "            target = target_noun_phrases_lst[0]\n",
    "\n",
    "    if(len(source_noun_phrases) == 0):\n",
    "        words = nltk.word_tokenize(after_like)\n",
    "        tagged_words = pos_tagger.tag(words)\n",
    "        for each in tagged_words:\n",
    "            if each[1] in nouns or each[1] in pronouns:\n",
    "                source = each[0]\n",
    "    else:\n",
    "        source_noun_phrases_lst = word_tokenize(str(source_noun_phrases[0]).strip())\n",
    "        if len(source_noun_phrases_lst) > 1:\n",
    "            source_noun_phrases_lst_without_sw = [word for word in source_noun_phrases_lst if not word in all_stopwords]\n",
    "            source = ' '.join(source_noun_phrases_lst_without_sw)\n",
    "        else:\n",
    "            source = source_noun_phrases_lst[0]\n",
    "\n",
    "print(\"Target: {}\\nAttribute: {}\\nSource: {}\".format(target, attribute, source))      "
   ]
  },
  {
   "cell_type": "code",
   "execution_count": 60,
   "id": "99d8d807",
   "metadata": {},
   "outputs": [],
   "source": [
    "with open(\"sample.txt\", \"w\") as f:\n",
    "    f.write('CREATE' + '\\n')\n",
    "    target_set = set()\n",
    "    source_set = set()\n",
    "\n",
    "    target_value = \"\"\n",
    "    target_var = \"\"\n",
    "    attribute_value = \"\"\n",
    "    attribute_var = \"\"\n",
    "    source_value = \"\"\n",
    "    source_var = \"\"\n",
    "\n",
    "    target_value = target\n",
    "    attribute_value = attribute\n",
    "    source_value = source\n",
    "\n",
    "    # '-' is to be replaced by ' ' as it is not allowed in variable name in Neo4j\n",
    "    if target_value.find('-') != -1:\n",
    "        target_value = target_value.replace('-', ' ')\n",
    "    if attribute_value.find('-') != -1:\n",
    "        attribute_value = attribute_value.replace('-', ' ')\n",
    "    if source_value.find('-') != -1:\n",
    "        source_value = source_value.replace('-', ' ')\n",
    "\n",
    "    # \"'\" is to be replaced by \"\" as it is not allowed in variable name in Neo4j\n",
    "    if target_value.find(\"'\"):\n",
    "        target_value = target_value.replace(\"'\", \"\")\n",
    "    if attribute_value.find(\"'\"):\n",
    "        attribute_value = attribute_value.replace(\"'\", \"\")\n",
    "    if attribute_value.find(\"'\"):\n",
    "        attribute_value = attribute_value.replace(\"'\", \"\")\n",
    "        \n",
    "    # Stanford POS tagging\n",
    "    words = nltk.word_tokenize(target_value)\n",
    "    target_tagged_words = pos_tagger.tag(words)\n",
    "\n",
    "    words = nltk.word_tokenize(source_value)\n",
    "    source_tagged_words = pos_tagger.tag(words)\n",
    "\n",
    "    words = nltk.word_tokenize(attribute_value)\n",
    "    attribute_tagged_words = pos_tagger.tag(words)\n",
    "\n",
    "    target_var = '_'.join((target_value).split())\n",
    "    attribute_var = '_'.join((attribute_value).split())\n",
    "    source_var = '_'.join((source_value).split())\n",
    "\n",
    "    target_var = target_var + \"_t\"\n",
    "    if target_var not in target_set:\n",
    "#         f.write('(' + target_var + ':TARGET{value:\"' + target_value + '\"}),' + '\\n')\n",
    "        f.write('(' + target_var + ':TARGET{value:\"' + target_value + '\",pos_tag:\"' + target_tagged_words[0][-1] + '\"}),' + '\\n')\n",
    "        target_set.add(target_var)\n",
    "        \n",
    "    source_var = source_var + \"_s\"\n",
    "    if source_var not in source_set:\n",
    "#         f.write('(' + source_var + ':SOURCE{value:\"' + source_value + '\"}),' + '\\n')\n",
    "        f.write('(' + source_var + ':SOURCE{value:\"' + source_value + '\",pos_tag:\"' + source_tagged_words[0][-1] + '\"}),' + '\\n')\n",
    "        source_set.add(source_var)\n",
    "        \n",
    "    f.write('(' + source_var + ')-[:ATTRIBUTE {value:\"' + attribute_value + '\",pos_tag:\"' + attribute_tagged_words[0][1] + '\"}]->('+ target_var + ');' + '\\n')"
   ]
  },
  {
   "cell_type": "markdown",
   "id": "fa7e6f60",
   "metadata": {},
   "source": [
    "## Load the saved Bi-LSTM model for prediction"
   ]
  },
  {
   "cell_type": "code",
   "execution_count": 27,
   "id": "71fa3a7f",
   "metadata": {},
   "outputs": [],
   "source": [
    "# load model\n",
    "from keras import models\n",
    "model = models.load_model('../model_keras/model.h5')"
   ]
  },
  {
   "cell_type": "markdown",
   "id": "789fd3e6",
   "metadata": {},
   "source": [
    "#### Prerequisites"
   ]
  },
  {
   "cell_type": "code",
   "execution_count": 28,
   "id": "e1a8c283",
   "metadata": {},
   "outputs": [],
   "source": [
    "from keras.utils import pad_sequences\n",
    "import numpy as np"
   ]
  },
  {
   "cell_type": "code",
   "execution_count": 29,
   "id": "a70fd2a2",
   "metadata": {},
   "outputs": [],
   "source": [
    "triples = [(target, attribute, source)]\n",
    "concepts = [(collocations[\"Concept\"][0], collocations[\"Attribute\"][0])]"
   ]
  },
  {
   "cell_type": "code",
   "execution_count": 30,
   "id": "ecd0e0cf",
   "metadata": {},
   "outputs": [],
   "source": [
    "%store -r vocab"
   ]
  },
  {
   "cell_type": "code",
   "execution_count": 31,
   "id": "80d8d033",
   "metadata": {},
   "outputs": [
    {
     "name": "stdout",
     "output_type": "stream",
     "text": [
      "['organized', 'thicket', 'wax statues', 'Essential Oils', 'train station', 'brother', 'royal feast', 'sleek', 'thick tree branch', 'chaotic dance', 'Harvest Time', 'skilled explorer', 'fragrant aroma', 'thunderbolt', 'project', 'Compact', 'doll eyes', 'Intellectual Analysis', 'race car', 'harp playing', 'Absorbent', 'pair', 'swoop', 'night', 'act', 'gather', 'swim', 'boats', 'cockroach antennae', 'dusky cheek', 'soul', 'snow', 'flame', 'ant', 'pin', 'Animated', 'Refreshing', 'Cozy', 'shark', 'wedding reception', 'fine lace', 'comb', 'Design Aesthetics', 'knight', 'roaring ocean', 'seagulls', 'thousand knives', 'pain', 'Sandwich', 'torrent', 'Artistic', 'past', 'bad smell', 'tack', 'sponge', 'High Definition', 'annoying', 'ants', 'slippery eel', 'calming', 'mountain goat', 'pride', 'puff', 'mother', 'room', 'computer', 'Fashion Industry', 'Sweet', 'melted butter', 'butter', 'Multi-purpose Design', 'old man hand', 'building', 'filing cabinet', 'goat', 'fallen fragment', 'bird beak', 'king-size bed', 'fortress', 'Design Details', 'well-composed note', 'children', 'Jewelry', 'throbbing violins', 'fine wine', 'curtains', 'formidable', 'bouquet', 'hollow log', 'answer', 'unpredictable', 'Body Language', 'Exterior Appearance', 'Interface Design', 'old boot', 'anxiety hun', 'empty', 'old marley', 'sorrow', 'pure', 'steel cables', 'lois', 'ball gown', 'steak', 'tubelights', 'july peaches', 'Cartoon Style', 'well-tended garden', 'slip', 'metal', 'arrow', 'tune', 'Brand Reputation', 'battery', 'charming', 'doorknob', 'Purified', 'blue heaven', 'abs', 'Fashionable', 'rusty gate', 'billow', 'wedding ceremony', 'Market Value', 'vinegar', 'marathon', 'Tree', 'beam', 'careful', 'puppet movements', 'soil', 'feather', 'steam room', 'Posture Support', 'wrap', 'enemies', 'dirk', 'roar', 'burning flame', 'wells', 'sumo wrestler', 'carpet', 'voracious beast', 'flit', 'afternoon sun', 'white', 'amber', 'fester', 'fresh', 'Surreal', 'old rusty gate', 'Interior Room', 'full', 'drops', 'bank', 'straight', 'writing', 'untroubled', 'gas particles', 'gentle steam', 'rake', 'touch', 'sparkling ruby', 'wander', 'freshly squeezed orange', 'Sturdy', 'ripe fig', 'moth wings', 'sandpaper', 'devasted', 'harp music', 'barley fields', 'Winter Conditions', 'easily', 'screech', 'sectional sofa', 'rabbits', 'Lush', 'High-end Materials', 'play', 'thorny branches', 'summer sunset', 'feeling', 'angry beast', 'precious', 'couple commitment', 'honk', 'shoulders', 'windmill', 'well-oiled machine', 'Charitable Actions', 'green apple', 'cold drink', 'note', 'ship masts', 'virus', 'red', 'sing', 'crunch', 'Confident', 'floor', 'crimson ember', 'voice cu', 'still', 'Ambitious', 'phantasmagoria', 'veiled future', 'swift serpent', 'guitar', 'ballerina legs', 'spacious', 'Aerodynamic', 'robot', 'abundant', 'tough', 'antennae', 'beasts', 'Drink', 'Book', 'Red', 'figure skater', 'hefty', 'steep', 'stormy', 'roots', 'gentle massage', 'delicate flowers', 'skies', 'Iconic', 'ripe peach', 'luxurious mansion', 'Honest', 'freshly picked cherry', 'Blossoming', 'aeroplane', 'Natural Beauty', 'Cushioning', 'Temperature Control', 'fiery flame', 'explosive', 'massive footprint', 'waterproof', 'traffic light', 'address', 'glow', 'bow', 'primeval chaos', 'lion roar', 'wild', 'coffee', 'humid', 'lullaby', 'paint', 'pendulum', 'keys', 'prisoner', 'boot', 'ancient', 'oats', 'forest', 'delicate', 'desert skies', 'shimmer', 'painter canvas', 'space', 'door-nail', 'pack', 'dragon roar', 'river', 'emotions', 'artist', 'look', 'Baked Date', 'watermelon', 'cattle', 'cedars', 'Suspenseful', 'tedious', 'dripping', 'metal fence', 'Endangered', 'kittens', 'cold', 'dissolve', 'feather bed', 'blazing inferno', 'comforting', 'Tranquil', 'dumb thunder', 'lay', 'python', 'grave', 'hurtle', 'Instrument Type', 'mummy', 'spread', 'Imagination', 'moth sensing danger', 'panda', 'run', 'welcoming hug', 'grains', 'ballerina', 'press', 'tricky', 'glance', 'Motor Type', 'razor', 'texas', 'knight courage', 'wind', 'freshly cleaned window', 'Abstract', 'winter morning', 'Knife', 'Juicy', 'puddle', 'Sharp', 'Sugar Content', 'broom bristles', 'expensive', 'Research Data', 'Nostalgic Flavor', 'contentedly', 'night sky', 'Hot', 'roller coaster', 'marchers', 'stone', 'Soft', 'thorn', 'solid', 'sturdy', 'fabric', 'pilot', 'worn', 'rain-washed crags', 'warm hug', 'firetruck', 'old man', 'drill bit', 'Contemporary', 'lineament', 'rising sun', 'emblem', 'corkscrew', 'dinner plates', 'transparent', 'cheek', 'Natural Setting', 'jeweler', 'raging wildfire', 'moth', 'beacon-tower', 'rush', 'radio station', 'sore thumb', 'frustration', 'Sparkling', 'face', 'blooming garden', 'tortoise', 'polished stone', 'spoon', 'sick', 'sweater', 'excitement', 'Mysterious', 'pupils', 'block', 'Love Story', 'stomach', 'level', 'accelerate', 'photograph', 'warm blankets', 'smash', 'open palm', 'apple color', 'stink', 'Informative', 'cozy', 'dumb cadence', 'small nut', 'small', 'rabbit', 'painting', 'warm look', 'cliff', 'cyclone', 'rag', 'curl', 'coconut milk', 'other side of pillow', 'friendship', 'bucket', 'icy winds', 'baby cries', 'lurk', 'beautiful', 'cow eyes', 'flight', 'drink', 'Alcohol Content', 'Material Quality', 'shadow', 'bed', 'heave', 'elemental force', 'espresso', 'button', 'gentle', 'arid climate', 'juicy steak', 'land', 'vapor', 'clear', 'big', 'endless ocean', 'parents', 'throat', 'humble', 'talcum', 'Organic', 'Modern', 'youngest kid', 'collar', 'Growth Rate', 'mournful cry', 'freshly baked pie', 'basketball player', 'dry twig', 'time bomb', 'Pizza', 'blanket', 'pop', 'crunchy', 'little boy', 'Inspirational', 'frozen lake', 'lavender scent', 'tears', 'movie', 'teeth', 'Efficient Work Habits', 'nut', 'aroma', 'dark hours', 'referee', 'dreams', 'impressive', 'Unique', 'Research Material', 'Bulb Wattage', 'boring', 'twitch', 'christmas tree', 'arms', 'Material Composition', 'unfurl', 'fireworks', 'battle', 'corn kernels', 'drill sergeant', 'busy', 'slender', 'Enlightening', 'bright', 'alarm', \"mistress ' eyes\", 'crow feathers', 'Sustainable', 'puppet expressions', 'world', 'corset', 'Sunglasses', 'prickly', 'fix', 'guy', 'blowfish', 'tom', 'rough', 'Lightweight Design', 'toad eyes', 'carrots', 'sit', 'pickle', 'Hair', 'lick', 'stew', 'panthers', 'Frame Construction', 'roadmap', 'Toppings', 'fortress wall', 'Behavior', 'crow beak', 'ripe tomato', 'waist', 'tranquil', 'waves', 'sunbeams', 'people', 'honey', 'Material Type', 'temple', 'significant', 'pirate', 'resort', 'driven slush', 'Square Footage', 'hare', 'High-performance', 'fight', 'deep forests', 'mosaic', 'tiny', 'hurricane', 'leather', 'Caffeine Content', 'uncle', 'different', 'strict', 'break', 'day', 'dominate', 'sharpie marker', 'Height', 'silly', 'kings', 'ox', 'crow caw', 'almond', 'seraph', 'blades', 'sticky', 'glide', 'explorers', 'cookie', 'eternal', 'skinny', 'sparkling jewel', 'backpack', 'thick fog', 'police officer', 'collapse', 'grain', 'Fragrant', 'anxiety', 'flare', 'Reliable', 'Timeless', 'elegant', 'wit', 'sly', 'eagle cry', 'expression', 'art', 'changeable', 'polished mirror', 'moon', 'deltoids', 'Emotional Impact', 'toast', 'Flavorful', 'mouth', 'rocky', 'Durable', 'basketball', 'ship deck', 'Luxurious', 'secure', 'coin', 'you', 'slippery', 'wedding band', 'birdseed', 'hurrying crowds', 'snowflakes', 'engines', 'delicate glass ornaments', 'scuttle', 'Expensive', 'immortal spirit', 'sruthy', 'torment', 'finding flaws', 'tiny jet engine', 'skunk', 'comprehensive', 'Functional', 'sunflower petals', 'crime', 'dead leaf', 'crow eyes', 'morning', 'follow', 'patiently', 'Cold', 'ideas', 'Flavors', 'plant', 'Sporty', 'magician spell', 'complicated', 'bad news', 'sunflower face', 'furnace', 'Ceramic', 'river rock', 'lights', 'twist', 'lemon', 'dwell', 'purr', 'toad skin', 'foul wind', 'runaway train', 'Kind', 'fertile', 'niece', 'blood', 'Imaginative', 'shopping mall', 'Horsepower', 'powder', 'inviting', 'chill', 'winter wind', 'high-strung', 'Physical Appearance', 'cloud', 'wine-vat splashing', 'faint', 'mailbox', 'warm blanket', 'desert', 'doll porcelain skin', 'iniyan', 'sock', 'Pigment Palette', 'volcano', 'Goal-oriented Attitude', 'poor', 'golden', 'Height Mechanism', 'moon light', 'apple texture', 'long', 'hours', 'strand', 'trail', 'Ventilation Material', 'ocean', 'tree trunks', 'apple flavor', 'Spicy', 'Lightweight', 'marching band percussion section', 'reaction', 'waters', 'cannon', 'hot', 'talcum powder', 'Decorative Embellishments', 'death', 'fire', 'Ethical Values', 'waver', 'bucket handle', 'Photorealistic Style', 'serpent', 'womb', 'bars', 'tonic', 'voice', 'cat', 'rail', 'marketplace', 'house', 'wild steeds', 'Cleanliness Standards', 'kitten fur', 'Savory', 'deafening', 'swans', 'brilliant star', 'laptop', 'price', 'Bread', 'Treacherous', 'rock', 'Vitamin Content', 'runner feet', 'lion', 'bride smile', 'Realistic', 'it', 'dancers', 'succulent', 'crab shell', 'unforgiving', 'laptop hard drive', 'Leafy', 'lonely star', 'beauty fade awa', 'mournful', 'dead', 'graveyard', 'bullet', 'whale tail fin', 'thunder-clouds', 'doorway', 'they', 'eyes', 'bird wings', 'proud', 'dead man s ears', 'bumpy', 'fiery depths', 'palace', 'honest', 'Message', 'anvil', 'Shirt', 'symmetrical', 'warm bath', 'grandma', 'Asphalt Quality', 'ballerina arch', 'years', 'shelves', 'heavenly', 'leaf', 'dustpan edge', 'brightly', 'gorilla grip', 'Agile', 'emeralds', 'wildfire sprea', 'Price Range', 'whip', 'bird nest', 'anger', 'daisy', 'Creative', 'caroling', 'fiercely', 'Sleek', 'angry sea', 'Feature-rich', 'lizard catching flies', 'Blade Material', 'five-star hotel suite', 'curve', 'loyal', 'wavelets', 'prince', 'that', 'sugar', 'cool breeze', 'bus station', 'dream', 'dead past', 'Content', 'freshly dug grave', 'opportunity', 'great', 'private jet', 'rash', 'roll', 'Powerful', 'Computer', 'Size', 'spoon handle', 'cave', 'cinch', 'leaves', 'smoked brisket', 'Philanthropic Work', 'gold-caged nightingale', 'serene', 'Coffee', 'cactus', 'charcoal', 'feast', 'burst', 'crisp autumn leaf', 'wriggle', 'hat', 'unsteady sea', 'new linebacker', 'cornucopia', 'god', 'dissatisfied', 'floppy', 'punishment', 'Taste', 'tissue paper', 'sweet aroma', 'Pop Art Style', 'gems', 'flutter', 'blue thread', 'Season', 'Detailed', 'friendly', 'pool', 'Entertaining', 'freshly paved road', 'laughter', 'pearls', 'Breathable', 'tape', 'Animal', 'flaming arrow', 'stop sign', 'High Resolution', 'nerves', 'fighter jet', 'winding', 'pumpkin', 'explorer', 'climb', 'magnifying glass', 'racing car', 'miniature tree', 'sesame seeds', 'freshly fallen snow', 'puppet strings', 'mirror reflection', 'marshmallow', 'child curiosity', 'point', 'fairly', 'mood', 'Comforting', 'Melody', 'blue coals', 'Delicious', 'gravity', 'Pen', 'penguin feathers', 'road', 'expand', 'beauteous', 'Cutting-edge', 'usain', 'intoxicating', 'drag', 'thin paper', 'chestnut', 'circus tent', 'green', 'fearless', 'pitch', 'Advanced Technology', 'misty veil', 'little planets', 'angel wings', 'butterflies', 'rumble', 'shon', 'earth', 'shrunk cedar', 'pink', 'judge', 'Timekeeping Mechanism', 'deaf', 'sack', 'bottle', 'monkey', 'clustered apples', 'bristles', 'distant', 'Romantic', 'weed', 'clam', 'scientists', 'Generous', 'electricity', 'hall', 'captain', 'haunting', 'Palette of Hues', 'little', 'tiny ships', 'stone walls', 'hills', 'disease', 'radish', 'chorus', 'plump', 'throne', 'daylight', 'pensive moon-worshipers', 'silver', 'gas station', 'Dog', 'Hybrid Engine Technology', 'Design', 'lather', 'jigsaw puzzle', 'bride veil', 'Advanced', 'giant', 'Guitar', 'unsubstantial vision', 'eel', 'boom', 'billows', 'Flavor Profile', 'car horn', 'Friendly', 'athlete feet', 'hair', 'emerald', 'molasses', 'Picturesque', 'move', 'versatile', 'rider', 'roast beef', 'bird flight', 'storm', 'snowstorm', 'glimmer', 'groan', 'Spices', 'wine', 'medicine', 'sink', 'Fruit Quality', 'teddy bear', 'scent', 'depths', 'cotton candy cloud', 'diamonds', 'foghorn', 'eat', 'Fuel Efficiency', 'bulge', 'stephen slep', 'dancer waist', 'nimbus', 'missing piece', 'Physical Features', 'wholesome', 'moth powdery wings', 'violets', 'prime', 'taste', 'golden ocean', 'purple', 'monotone', 'rich', 'flowers', \"stegosaurus ' spiky plates\", 'hand', 'bird-call', 'Carpet', 'cold worm', 'cascade', 'vast house', 'evanescent', 'flash', 'stand', 'dress', 'freshly fallen autumn leaf', 'salty', 'Decorative Stitching', 'Trendy', 'Resilient', 'dagger', 'lime', 'goose', 'Bright', 'sway', 'dustpan', 'mournful melody', 'Expressive', 'ripple', 'wolf', 'second skin', 'cluster', 'attack', 'old wooden fence', 'sweat', 'hoofs', 'constant', 'pot', 'Water', 'Flower Petals', 'creative', 'shadows', 'expressions', 'Soothing', 'kingdoms', 'helicopter', 'string', 'water pressure', 'Narrative Style', 'newly polished mirror', 'millet grains', 'colony', 'soda straw', 'giant waves', 'jointed reptile', 'candle', 'fancies', 'magazine', 'water-lily', 'whir', 'coat', 'warm bread', 'cracked earth', 'whistle', 'delicate piece', 'fingers', 'raging inferno', 'Crispy', 'rhythm', 'little breeze', 'broom handle', 'razor blade', 'rollercoaster drop', 'orchestra', 'delve', 'supple', 'gourmet meal', 'grandmother mind', 'thunderclap', 'precise', 'tomato', 'farm', 'Analytical', 'Resourceful', 'animated', 'drifting leaf', 'airport terminal', 'Exterior Color', 'ambitious', 'shape', 'jackfruit', 'broken saw', 'Stain-resistant', 'ant antennae', 'perfectly balanced scale', 'tropical grass', 'flag', 'bird', 'creep', 'twilight air', 'gritty', 'fresh morning', 'pour', 'ribs', 'pinhead', 'argue', 'Stealthy', 'redwood tree', 'Interior Space', 'cabbage head', 'brand', 'spring morning', 'earthy scent', 'storm clouds', 'water', 'sword', 'landscape', 'yellow apples', 'sea-foam', 'lake', 'storm-broken flower', 'whisper', 'gold', 'snap', 'swan', 'Plush Upholstery', 'chocolate cake', 'fresh snowfall', 'tide', 'bendy', 'orphanage', 'Physical Abilities', 'Ferocious', 'regal', 'garden', 'fate', 'rustling leaves', 'whiff', 'important', 'party', 'glorious moments', 'grim face', 'leopard', 'powdered sugar', 'desert wasteland', 'support', 'shirt', 'Rich', 'Graphics Card', 'symphony orchestra', 'quilt', 'mouse', 'goose wings', 'row', 'peacock', 'Mechanical Performance', 'grow', 'shining star', 'Majestic', 'log', 'drop', 'falling dew', 'Quiet Movements', 'lightning flash', 'swan limbs', 'mind', 'forest pool', 'patient', 'mountains', 'along', 'thrilled', 'Shoe', 'plastic bag', 'Creative Writing', 'shrill bird', 'winter coat', 'ray', 'Training', 'smell', 'bolt', 'eggs', 'yawn', 'sculptor thought', 'personality', 'harsh', 'gentle waterfall', 'buttery', 'kitten eyes', 'leather sofa', 'snail', 'wide', 'tall', 'Friend', 'Soup', 'gliding waters', 'belly', 'whale skin', 'school', 'Floral Arrangement', 'stiff', 'Recipe Ingredients', 'peach', 'restorative', 'poet', 'puzzle', 'birds', 'fuzzy', 'slide', 'winter', 'carrier', 'trumpet', 'tower', 'crooked', 'guides', 'Empathetic Attitude', 'giant arm', 'jalapeño pepper', 'harp', 'bob', 'brim', 'tip', 'resort beauty', 'caring', 'quickly', 'Landmark Status', 'warm', 'droop', 'elemental diamond', 'Horror Genre', 'veiled', 'Accurate', 't-rex', 'tropical fruit', 'mango', 'gazelle', 'apple aroma', 'angry lion', 'purpose', 'passengers', 'disappear', 'Artistic Detailing', 'goose beak', 'Stylish', 'journey', 'child laughter', 'strike', 'mother embrace', 'ring', 'wings', 'gate', 'refrigerator', 'hearts', 'diving board', 'dumb neglected lap-dogs', 'echo', 'Resistance to Pests', 'food', 'fall morning', 'pale', 'doll limbs', 'angel', 'lead', 'she', 'Adorable', 'expressive', 'wisp', 'envelop', 'question mark', 'tick', 'giant eagle', 'woman hair', 'velvet sofa', 'glowing pearl', 'fragile', 'slow', 'Design Style', 'monsoon', 'open', 'Organized', 'sheet', 'sudden', 'lily', 'old', 'doll', 'soothing', 'table', 'syrup', 'faces', 'car', 'poem', 'fathomless sea', 'loom', 'bread', 'Eco-friendly Materials', 'sugar crystals', 'Nutritious', 'dog', 'Edible', 'beehive', 'broad', 'glitter', 'impatient', 'life', 'pancake', 'zucchini', 'intensity', 'aeroplane cut', 'freshly polished car', 'rubber bands', 'Child', 'cord', 'concertina', 'clear tape', 'pig', 'frightened girl', 'thunder', 'pliable', 'toad', 'biceps', 'Hardy', 'arrow pointing', 'leak', 'strong', 'stooped forms', 'firecracker', 'spray', 'grand', 'boundless', 'pine trees', 'bird feathers', 'unknown world', 'flowy', 'Phone', 'inside of refrigerator', 'silk', 'endless', 'music', 'flavor', 'sparkle', 'extravagant', 'turquoise vault', 'Fuel-efficient', 'Cooking Technique', 'Engine Capability', 'sweet', 'bag', 'bull', 'ball', 'moonlight', 'freely', 'delicate branches', 'lump', 'sour', 'time', 'loud', 'ship bow', 'bug', 'sister', 'pearl', 'thrilling', 'Carbonation Process', 'Safe', 'mule', 'vision', 'queen', 'mother bird', 'impudent trick', 'cool glass', 'rustle', 'explode', 'Decorative', 'buffet', 'clench', 'battering ram', 'concert', 'lightning', 'nest', 'skitter', 'family', 'sugarcane', 'jesse', 'moonbeams', 'brick', 'ocean breeze', 'lively', 'dragon wings', 'Ventilation Technology', 'confort', 'teacher voice', 'cabbage', 'glass', 'shark fin cutting', 'unkempt picket fence', 'bear', 'turn', 'musical note', 'Classic Design', 'Social Interaction', 'whale', 'engagement ring', 'rainy day', 'fleeting', 'Emotional Support', 'Material Strength', 'Strength of Character', 'continuous', 'bright yellow color', 'spiderwebs', 'gleam', 'swarm', 'wounded snake', 'bear roar', 'penguin', 'name', 'colorful', 'swiss army knife', 'other', 'creak', 'IQ Test', 'bear fur', 'days', 'glowing lantern', 'smile', 'breakfast', 'smoke', 'settle', 'brown', 'gentle stream', 'cozy blanket', 'dam', 'old letter', 'Lens Type', 'warm honey', 'soaking', 'Ergonomic', 'army', 'reliable', 'daggers', 'knight armor', 'bustling', 'hawk eyes', 'pulses', 'pungent', 'athlete quads', 'satisfying', 'marathon runner', 'referee whistle', 'students', 'refreshing', 'Problem-solving Skills', 'Clock', 'Medicinal', 'surface', 'stubborn', 'Fresh', 'sharp', 'contortionist', 'ship', 'newborn baby', 'Materials Used', 'Steep Terrain', 'clown', 'Performance Capability', 'Architectural Significance', 'Roasting Process', 'nightingale', 'crown', 'sweet scent', 'Graceful Movements', 'ghosts', 'beer', 'chalk', 'sunshine', 'Art', 'old pair', 'bump', 'sleep', 'Movie', 'mad', 'Fabric Texture', 'pools', 'thief hands', 'giant magnet', 'limpid', 'expansive', 'Bubbly', 'Processor Speed', 'destroy', 'spider web', 'falcon', 'dynasty', 'cage', 'fluffy cloud', 'child', 'lively orchestra', 'a', 'honda ride', 'dazzling diamond', 'dove', 'rigid', 'inconspicuous', 'parachute', 'boat', 'hackneyed', 'Design Brand', 'drift', 'cool', 'Mountain', 'bird song', 'hourglass', 'mansion', 'head', 'ghost', 'chamois', 'labyrinth', 'cousin chatter', 'griddle', 'thorns', 'stun', 'dirt', 'machine', 'sweep', 'Bridge', 'clothes', 'vibrant', 'bathtub', 'choir', 'milk', 'reflective', 'canvas', 'sleeping baby', 'smoothly', 'car engine', 'Television', 'intricate', 'Activity Level', 'Scenic', 'baby face', 'study', 'grandpa beard', 'dawn', 'Scenic Views', 'magnificent', 'neck', 'girl voice', 'horse', 'polished pebble', 'Loyal', 'pure gold', 'trapezius muscles', 'ray of sunshine', 'chalk marks', 'Pristine', 'beauty', 'young goat', 'dissipate', 'network', 'bloom', 'crawl', 'love', 'green carpet', 'Origin Country', 'apple shape', 'bowl', 'kitten', 'rocket', 'sore', 'Peak Elevation', 'subway train', 'vanishing loveliness', 'Expressionistic Style', 'Arch Structure', 'tree roots', 'Bag', 'Magnificent', 'float', 'Acting Performances', 'premium', 'horizon', 'ice cubes', 'hamster runs', 'curved', 'fox', 'church', 'Tall', 'agitate', 'drums', 'hit', 'taut', 'trunk', 'painter palette', 'wet paper', 'carved mask', 'petals', 'old abandoned house', 'fine ruby red', 'march', 'friends', 'bad memory', 'bride eyes', 'Futuristic', 'masterpiece', 'book', 'fluorescent veins', 'woollen scarf hun', 'balloon', 'Light', 'fur', 'destructive', 'foam-swept rock', 'drowned', 'secret treasure', 'sharp hail', 'nut shell', 'Versatile', 'melody', 'apple flesh', 'wise', 'ant movements', 'Coloration', 'polished silver plate', 'father', 'pale spotless shroud', 'narrow', 'whispers', 'quick', 'bird movements', 'burrow', 'humour', 'uneven', 'blazing oven', 'slow thought', 'sensitive', 'Temperature', 'hot knife', 'beast', 'bustling marketplace', 'soft drumbeat', 'Electric', 'fill', 'girls', 'gracefully', 'company culture', 'heart', 'queen throne', 'crowd', 'contention', 'ghostly figure', 'new employee', 'medieval weapon', 'sail', 'lavish', 'beacon', 'well', 'Person', 'unwelcome thought', 'scarf', 'starfish movements', 'yellow', 'camp fire', 'buzz', 'sapphire', 'sterile', 'disciplined', 'stretch', 'heaven', 'bold', 'hard drive', 'grandfather', 'gaze', 'phantoms', 'tiny race car', 'sweft', 'slap', 'crowd excitement', 'clay', 'clatter', 'heated opal', 'twigs', 'Comedy Genre', 'Screen Quality', 'freshly polished marble', 'classroom', 'kiwi', 'clean', 'swimming pool', 'clock', 'croissants', 'imposing', 'pencil', 'church mouse', 'Refill', 'Image Quality', 'dragon flames', 'Fluffy', 'moist', 'ardent face', 'wet eel', 'blind', 'cleansing', 'chaste', 'tin', 'freshly baked dinner roll', 'jackhammer', 'pattern', 'Paint', 'money', 'giants', 'Action-packed', 'skunk spray', 'Elegant', 'sound', 'solemn', 'juicy', 'antlers', 'idea', 'Fruit', 'Smooth', 'moonless night', 'tree trunk', 'star', 'wild animal', 'lean', 'cost', 'dog teeth', 'ghostly apparition', 'girl face', 'omnibus', 'Patient', 'Precision', 'crescent moon', 'presence', 'tangled web', 'brass', 'brightness', 'guide', 'thunderstorm', 'crust', 'heavy burden', 'funny', 'Cute', 'laser', 'tidal wave', 'bone', 'drum', 'burial', 'white bird', 'Playful', 'athlete movements', 'purring', 'wife', 'knot', 'panda fur', 'owl', 'crisp', 'carrot', 'steel', 'rustling', 'Educational', 'word', 'bulky', 'roof', 'dhoni', 'straightjacket', 'fruit', 'sofa', 'blowfish eyes', 'strings', 'king ransom', 'trees', 'wider', 'adventurous', 'monk face', 'committed', 'flush', 'tarantula', 'round', 'Historical Significance', 'haunt', 'bulldozer', 'comb teeth', 'sculpture', 'butterfly wings', 'warehouse', 'attract', 'Fascinating', 'warmth', 'arrow shooting', 'gold band', 'texture', 'bat', 'feet', 'bubbles', 'Adjustable', 'politician', 'Road', 'Scenery', 'Utility Design', 'iconic', 'glove', 'cartoon character', 'aeroplane wings', 'contagious', 'reformer', 'Exotic', 'cotton burn', 'dull', 'physicist', 'shrill whistle', 'rose garden', 'thistledown', 'island', 'intelligent', 'Beautiful', 'strawberry', 'grandfather mind', 'stooping girl', 'shin', 'rabbit fur', 'bee', 'silver coin', 'statue', 'chameleon', 'Modern Aesthetic', 'swings', 'scurry', 'Seasoning Blend', 'bowling ball', 'lilies', 'bomb', 'flap', 'dreary dawn', 'infinite', 'internet', 'calm', 'cute', 'watercolors', 'tender', 'spoon edge', 'paper', 'wave', 'fairy tale', 'spiky', 'rubber band', 'Foliage Density', 'lions', 'alice', 'dripping cavern', 'boy', 'profound', 'queen beauty', 'Building', 'Car', 'new penny', 'interesting', 'bones', 'heartbeat', 'Attitude', 'cunning', 'dancer feet', 'Thick', 'crowded', 'classmates', 'Movement Mechanism', 'ink stain', 'elephant', 'Padding', 'fingerprint', 'king palace', 'Athletic', 'Intelligent', 'green traffic light', 'Operating System', 'rumpled roses', 'lounge', 'forest floor', 'ruby', 'wind-swept leaf', 'old sofa', 'dustpan handle', 'Sleek Design', 'clouds', 'lemon juice', 'lovely', 'thin', 'comet', 'Historic', 'smart', 'frail exhalation', 'Bird', 'Inspiring', 'Trending Style', 'broccoli', 'dancer', 'brave', 'Curious', 'free', 'fork', 'request', 'Efficient', 'spoon surface', 'dog hind leg', 'brachiosaurus', 'dead face bed', 'luxurious yacht', 'bend', 'beaten moonbeams', 'feathers', 'fruitcake', 'princess', 'lips', 'independent', 'little hands', 'rice grains', 'generous', 'Airplane', 'white picket fence', 'war', 'penguin eyes', 'heat', 'fly', 'thoughts', 'baby', 'bitter', 'grandmother love story', 'weather', 'legend', 'passing', 'Furniture', 'Gemstone Quality', 'High-tech', 'crumbly', 'gymnast', 'infection', 'dragon eyes', 'giant jellyfish', 'neat', 'Bicycle', 'stalactites', 'steal', 'snug', 'work', 'sadness', 'old wooden staircase', 'Fast', 'playground', 'kind', 'long arm', 'melon', 'breathtaking', 'flies', 'trample', 'gorgeous', 'dumbbell', 'tiny tank', 'damp', 'radiant', 'plants', 'delicate butterfly', 'Supportive', 'afternoon breeze', 'eggshell', 'silent', 'weak', 'House', 'rubik cube', 'Crash Test Rating', 'ham', 'pillow', 'pages', 'exorbitant', 'gdp', 'focus', 'cats', 'color', 'sieve', 'he', 'jungle', 'mirror', 'deep', 'quiet', 'fading light', 'Ice Cream', 'skin', 'peaceful', 'chirp', 'bounce', 'fell', 'complex', 'valuable', 'ripples', 'recurring nightmare', 'User-friendly', 'tear', 'summer flowers', 'nails', 'athlete bones', 'breeze', 'bells', 'home run', 'warrior', 'matter', 'twilight sky', 'cockroach', 'oversized sofa', 'Behavioral Traits', 'prowling animal', 'golden ball', 'suffocating', 'mysterious', 'living coal', 'singer voice', 'drip', 'goal', 'tendrils', 'babble', 'lumber', 'fluffy', 'hazy sea', 'tightrope walker balancing pole', 'energetic', 'wax', 'stillness', 'shake', 'whiten', 'nesting dove', 'cramps', 'needles', 'determined', 'hell', 'panda movements', 'Insightful', 'Number of Pages', 'steady', 'syllabus', 'spring rain', 'shawl', 'cheetah', 'worm', 'industrious worker', 'sweet smelling loam', 'soft', 'drowse', 'creeping tigers', 'secret', 'Silky', 'tree', 'crystal', 'crumbling ashes', 'firm', 'rice', 'fresh snow', 'comfort', 'Color Palette', 'Filtration System', 'cucumber', 'click', 'weave', 'Energy Consumption', 'visions', 'welcoming', 'doornail', 'confining', 'kitty', 'piece', 'poet words', 'sudden sense', 'mother love', 'tomb', 'contract', 'axe', 'Style', 'soar', 'heavy', 'fervent', 'chimney', 'strawberry jam', 'spiderweb', 'air', 'solid mountains', 'smooth', 'baby skin', 'toad belly', 'bird chirp', 'slice', 'healthy', 'teardrop', 'plush carpet', 'blowfish skin', 'Interface', 'perch', 'ground', 'unbroken', 'town square', 'grandmother', 'easy', 'rotten meat', 'puppet wooden limbs', 'low', 'eagle', 'potato chip', 'marbled beef', 'dead skunk', 'hawk vision', 'adorn', 'leaky faucet', 'apple skin', 'black', 'polished glass', 'five-star hotel', 'Emotional', 'Food', 'delicious', 'Adventure Genre', 'starved', 'tangy', 'speeding bullet', 'constant raincloud', 'armed men', 'siblings', 'muscles', 'Apple', 'meteor', 'pull', 'golden river', 'exciting', 'fresh lettuce', 'large', 'sun-kissed field', 'tin roof', 'Compact Size', 'magnet', 'thunder-cloud', 'top', 'curvy', 'winds', 'out-looking', 'chainsaw', 'Innovative', 'body', 'wet blanket', 'confidence', 'sardines', 'barrel', 'raisin', 'vast', 'pen', 'image', 'Terrain', 'foul birds', 'Natural Habitat', 'Vibrant', 'yacht', 'cheeks', 'mask', 'blooming flower', 'skater', 'crab', 'lava', 'comb handle', 'massive', 'jelly shon', 'keyboard', 'Portable', 'dainty', 'Snowy', 'Filling', 'Design Features', 'wet bar', 'pea soup', 'vague', 'rainbows', 'blaze', 'close-knit', 'ears', 'saucers', 'radio receiver', 'blazing star', 'stained glass windows', 'hug', 'path', 'wa', 'heroine', 'Practical Design', 'hungry', 'spiral staircase', 'cabbage leaves', 'offer', 'Hilarious', 'Affordable', 'willow branch', 'raindrops', 'spout', 'cuddly', 'fresh morning breeze', 'blue', 'garment', 'polluted air', 'diamond', 'dark', 'nymphs', 'filter', 'Green', 'butterfly', 'athlete muscles', 'Chair', 'plentiful', 'cinnamon rolls', 'fair', 'beetle', 'circulating library', 'starfish limbs', 'groom love', 'swiss clock', 'intense', 'mountain', 'forests', 'Challenging', 'soldier', 'bulldog', 'loyal servant', 'adhesive', 'serpent hiss', 'hidden', 'rodeo', 'pervasive', 'camera lens', 'stampede', 'imperturbable', 'peak', 'High-quality', 'great yellow moth', 'focused', 'Aesthetic Appeal', 'Engine Technology', 'lynx', 'gentle breeze', 'spin', 'Surrealism Style', 'flower', 'long and slender', 'graceful ballerina', 'flicker', 'bowstring', 'fence', 'game', 'hawk', 'vanish', 'quibbling mouth', 'fog', 'thick', 'giant blender', 'saw blade', 'small ball', 'duck', 'curious', 'phrase', 'frightful', 'Articulate', 'shaky', 'Boat', 'new century ros', 'news', 'fresh rose petal', 'dance', 'pickle juice', 'Well-behaved', 'swell', 'hum', 'fiery moon', 'true', 'fast', 'nutty', 'sara', 'unconscious', 'athlete passion', 'sun', 'cat eyes', 'old battleship', 'Mug', 'ribbon dancing', 'library', 'cakes', 'hang', 'Heartwarming', 'freshly picked apple', 'Fruity', 'puppet joints', 'cold glass', 'monk', 'stream', 'cake', 'whole', 'cling', 'list', 'autumn leaf', 'Frame Material', 'men', 'Habitat Loss', 'luxurious', 'atmosphere', 'Aroma', 'tempting', 'tirelessly', 'dog bark', 'piercing', 'shop', 'purse', 'swan feathers', 'gray', 'football stadium', 'hungry cat', 'black and white', 'sea', 'meatball', 'towering geyser', 'celery', 'stone wall', 'hop', 'simmer', 'crash', 'train whistle', 'wrinkled marble floor', 'poppy', 'giant galleon', 'Ornate', 'grandpa', 'giraffe', 'Creative Talents', 'calmly', 'Features', 'mud', 'the', 'Architectural Design', 'toad croak', 'descend', 'Dramatic', 'evening stars', 'sports car', 'Aromatic', 'symphony', 'dragon scales', 'spicy', 'Dress', 'bond', 'silver moon', 'stick', 'graceful', 'difficult', 'childhood memory', 'sunset', 'agile', 'waterfall', 'old truck', 'yellow butterfly', 'Plant', 'train', 'Amount of Ingredients', 'bouncing ball', 'Mystery Genre', 'phoenix flam', 'Engine Type', 'ice cream', 'fresh stream', 'swirl', 'oil', 'Sandy', 'cast-off cloak', 'flat', 'winter landscape', 'champagne', 'champion', 'evening sky', 'Ink', 'wildfire', 'bench', 'needle', 'hypnotist pendulum', 'donkey', 'we', 'knife', 'summer twilight', 'fluffy cotton ball', 'Cat', 'laser beam', 'powerful', 'Vehicle', 'fall', 'skyscraper', 'Strong', 'somber', 'field', 'Health Benefits', 'thief', 'doll dress', 'Clear', 'zipper closing', 'old man bones', 'little weed-clogged ship', 'flames', 'Building Construction', 'memory', 'eager-hearted', 'carnival', 'naina', 'laboratory', 'furrow', 'pierce', 'lame', 'serious', 'patchwork squares', 'penny squib', 'Technological Features', 'companionless', 'happy', 'Room', 'reputation', 'Texture', 'stuffy', 'spirits', 'glittering jewel', 'waft', 'warm embrace', 'Sunset', 'unconditional', 'tightly wound spring', 'flee', 'fine', 'love prick', 'file', 'hatter', 'Social Skills', 'spoon bowl', 'lose', 'Comfortable', 'sand', 'Life Lessons', 'finest satin', 'gravel road', 'explanation', 'flat note', 'Emotional Response', 'Terrifying', 'brow', 'goddess', 'woodworking skills', 'thousand camera flashes', 'monumental alabaster', 'snowdrift', 'Sociable Attitude', 'hospital room', 'nurture', 'burn', 'hive', 'summer sky', 'highway', 'soap', 'kingdom', 'Spacious', 'the-line', 'drowsy murmur', 'Garden', 'circle spu', 'year', 'noble sentiments', 'suit', 'beach', 'ice', 'arrow flight path', 'Culinary Use', 'surefooted', 'penalty', 'twisted', 'unbreakable', 'Cutting-edge Technology', 'faucet spout', 'Impactful Message', 'dense', 'endless sea', 'snake', 'hermit', 'summer day', 'Towel', 'stars', 'Antique', 'pizza', 'Painting Style', 'Environmentally-friendly', 'hard', 'calm lake', 'misty monster', 'angry skies', 'swift', 'universe', 'piquant odor', 'Polarized', 'doll hair', 'pound', 'bride dress', 'climate', 'preacher', 'Soft Fur', 'sweetly', 'Age', 'relentless tide', 'slither', 'hammer', 'coconut', 'sidewalk', 'saint', 'faucet handle', 'speak', 'absence', 'wheel', 'Watch', 'Farming Methods', 'flexible', 'Architectural Style', 'curley', 'lion growl', 'luminous', 'tongue-tied librarian', 'Energetic', 'Music', 'Character Development', 'Impressive', 'rats', 'coward', 'tiny voices', 'sloth', 'streak', 'mean', 'molten gold', 'spines', 'giant cotton balls', 'truth', 'pond', 'elusive', 'sniff', 'words', 'chocolate', 'Chlorophyll', 'cruel', 'friend', 'jelly', 'dry', 'cut', 'history paper', 'innocent', 'Tea', 'branches', 'Interior Design', 'summer sunflower', 'spotlight', 'vase', 'reel', 'lamb', 'colors', 'automaton', 'storm-tossed ship', 'student', 'daisy yellow center', 'Plot', 'slope', 'Structural Integrity', 'Beach', 'old man voice', 'rusty hinge', 'king voice', 'Cute Appearance', 'ant strength', 'fortune', 'jade', 'stones', 'dead leaves', 'velvet', 'i', 'Acceleration', 'tulip stem', 'dependency', 'fierce', 'poet dream', 'solid air', 'despondency clung', 'Performance Design', 'picture', 'engineering', 'vast blank page', 'rainbow', 'endless blue carpet', 'tart', 'library bookshelves', 'Predator Instincts', 'coast', 'twig', 'modestly', 'rollercoaster', 'light', 'Crash Test Ratings', 'tightly-knit sweater', 'shooting star', 'coal', 'board', 'Personality Trait', 'afternoon', 'Climate', 'Colorful', 'Dreamlike Style', 'lady', 'cocoon', 'sip', 'wild ride', 'apple', 'pretty', 'Cuddly', 'morning dew', 'dip', 'puppy', 'violinist notes', 'starfish arms', 'silky', 'flavorful', 'ton', 'pinheads', 'sunny day', 'poems', 'nice', 'flow', 'sad', 'fish', 'fragrant', 'contented cat', 'warship sailing', 'laptop screen', 'great river ice', 'sallow', 'Fuel Consumption', 'exam', 'shine', 'square', 'windowpane', 'dark impenetrable cloud', 'icicle', 'remote tropical island', 'glue', 'Climbing Difficulty', 'temper', 'die', 'laptop fan', 'high', 'sweet voice', 'fit', 'Pile Height', 'barometer', 'ballerina dance', 'crow wings', 'Flavor', 'soup', 'Natural Sugars', 'Communication Skills', 'jagged', 'mystery', 'hand grenades', 'glad', 'Camera', 'mathematical equation', 'great black cloud', 'gathering glory', 'howl', 'Water Filter', 'edges', 'rise', 'silence', 'envious wind', 'city streets', 'Charitable', 'company growth', 'rocky shores', 'noisy', 'erupt', 'circle', 'inside', 'freshly polished mirror', 'bear paws', 'melt', 'polished marbles', 'Fabric Material', 'tornado', 'gaint', 'Nutritional Value', 'specter', 'Baby', 'perfect', 'freshly baked bread', 'seasoned sailor', 'city', 'firework', 'crispy', 'tropical breeze', 'fire hose', 'spring', 'banshee', 'middle notes', 'Plumage', 'rain', \"clowns' antics\", 'blinding', 'ideal', 'Acoustic', 'arrows', 'loudly', 'grave marker', 'brittle', 'growl', 'redden', 'grass', 'planes', 'contend', 'sky', 'gimlets', 'man', 'view', 'embers', 'tiny engine', 'literature teacher', 'candy', 'hues', 'Plot Development', 'dust', 'waffle', 'Material Durability', 'shiny', 'teacher', 'faithful friend', 'rose', 'jeweled butterflies', 'winter day', 'haunting melody', 'music rhythm', 'giraffe neck', 'fawn', 'bush', 'Picture', 'bluest water', 'bedroom', 'surgeon', 'sounds', 'bustling city', 'soldiers', 'denominational lines', 'Waterfall', 'flood', 'sauna', 'stripes', 'Cushioning Material', 'Thought-provoking Ideas', 'wheat field', 'wand', 'chambers', 'brick chimney', 'hardworking']\n"
     ]
    }
   ],
   "source": [
    "print(vocab)\n",
    "# Assign unique IDs to words in vocabulary\n",
    "word_to_id = {word: i for i, word in enumerate(vocab)}"
   ]
  },
  {
   "cell_type": "code",
   "execution_count": 32,
   "id": "4ea1c5fd",
   "metadata": {},
   "outputs": [],
   "source": [
    "# Encode triples and concepts with unique IDs\n",
    "encoded_triples = [[word_to_id[word] for word in triple] for triple in triples]\n",
    "encoded_concepts = [[word_to_id[word] for word in concept] for concept in concepts]\n",
    "# Pad encoded sequences\n",
    "max_length = max(len(seq) for seq in encoded_triples + encoded_concepts)\n",
    "padded_triples = pad_sequences(encoded_triples, maxlen=max_length, padding='post')\n",
    "padded_concepts = pad_sequences(encoded_concepts, maxlen=max_length, padding='post')"
   ]
  },
  {
   "cell_type": "markdown",
   "id": "ba371c61",
   "metadata": {},
   "source": [
    "#### Prediction"
   ]
  },
  {
   "cell_type": "code",
   "execution_count": 33,
   "id": "d5580e29",
   "metadata": {},
   "outputs": [
    {
     "name": "stdout",
     "output_type": "stream",
     "text": [
      "1/1 [==============================] - 3s 3s/step\n"
     ]
    }
   ],
   "source": [
    "y_pred = model.predict([padded_triples, padded_concepts])"
   ]
  },
  {
   "cell_type": "code",
   "execution_count": 34,
   "id": "df7b82b3",
   "metadata": {},
   "outputs": [
    {
     "data": {
      "text/plain": [
       "array([1])"
      ]
     },
     "execution_count": 34,
     "metadata": {},
     "output_type": "execute_result"
    }
   ],
   "source": [
    "np.round(y_pred).astype(int).flatten()"
   ]
  },
  {
   "cell_type": "markdown",
   "id": "f983c6e8",
   "metadata": {},
   "source": [
    "## Neo4j Graph Querying (Attribute Prediction)"
   ]
  },
  {
   "cell_type": "code",
   "execution_count": 35,
   "id": "47e3e105",
   "metadata": {},
   "outputs": [
    {
     "name": "stdout",
     "output_type": "stream",
     "text": [
      "5.8.0\n"
     ]
    }
   ],
   "source": [
    "from neo4j import __version__ as neo4j_version\n",
    "from pandas import DataFrame\n",
    "print(neo4j_version)"
   ]
  },
  {
   "cell_type": "code",
   "execution_count": 36,
   "id": "59fe7580",
   "metadata": {},
   "outputs": [],
   "source": [
    "from neo4j import GraphDatabase"
   ]
  },
  {
   "cell_type": "code",
   "execution_count": 37,
   "id": "dd9c0daf",
   "metadata": {},
   "outputs": [],
   "source": [
    "class Neo4jConnection:\n",
    "    \n",
    "    def __init__(self, uri, user, pwd):\n",
    "        self.__uri = uri\n",
    "        self.__user = user\n",
    "        self.__pwd = pwd\n",
    "        self.__driver = None\n",
    "        try:\n",
    "            self.__driver = GraphDatabase.driver(self.__uri, auth=(self.__user, self.__pwd))\n",
    "        except Exception as e:\n",
    "            print(\"Failed to create the driver:\", e)\n",
    "        \n",
    "    def close(self):\n",
    "        if self.__driver is not None:\n",
    "            self.__driver.close()\n",
    "        \n",
    "    def query(self, query, db=None):\n",
    "        assert self.__driver is not None, \"Driver not initialized!\"\n",
    "        session = None\n",
    "        response = None\n",
    "        try: \n",
    "            session = self.__driver.session(database=db) if db is not None else self.__driver.session() \n",
    "            response = list(session.run(query))\n",
    "        except Exception as e:\n",
    "            print(\"Query failed:\", e)\n",
    "        finally: \n",
    "            if session is not None:\n",
    "                session.close()\n",
    "        return response"
   ]
  },
  {
   "cell_type": "code",
   "execution_count": 38,
   "id": "880dce2a",
   "metadata": {},
   "outputs": [],
   "source": [
    "# create an instance of connection with the parameters\n",
    "# conn = Neo4jConnection(uri=\"bolt://localhost:7687\", user=\"neo4j\", pwd=\"metaphorkb2\")\n",
    "conn = Neo4jConnection(uri=\"bolt://localhost:7687\", user=\"neo4j\", pwd=\"12345678\")"
   ]
  },
  {
   "cell_type": "code",
   "execution_count": 39,
   "id": "e054ad97",
   "metadata": {},
   "outputs": [
    {
     "name": "stdout",
     "output_type": "stream",
     "text": [
      "Possible Attributes for target 'lake' and source 'crystal' are:\n",
      "\n",
      "clear\n"
     ]
    }
   ],
   "source": [
    "query_string = '''\n",
    "MATCH (s:SOURCE)-[attr:ATTRIBUTE]->(t:TARGET)\n",
    "WHERE t.value =~ '.*{target}.*' AND s.value =~ '.*{source}.*'\n",
    "RETURN t.value, attr.value, s.value\n",
    "'''.format(target=target, source=source)\n",
    "# print(conn.query(query_string, db='neo4j'))\n",
    "dtf_data = DataFrame([dict(_) for _ in conn.query(query_string, db='neo4j')])\n",
    "possible_attributes = set(dtf_data[\"attr.value\"])\n",
    "\n",
    "print(\"Possible Attributes for target '{target}' and source '{source}' are:\\n\".format(target=target, source=source))\n",
    "lst = list(possible_attributes)\n",
    "for i in range(len(lst)):\n",
    "    print(lst[i])"
   ]
  }
 ],
 "metadata": {
  "kernelspec": {
   "display_name": "Python 3 (ipykernel)",
   "language": "python",
   "name": "python3"
  },
  "language_info": {
   "codemirror_mode": {
    "name": "ipython",
    "version": 3
   },
   "file_extension": ".py",
   "mimetype": "text/x-python",
   "name": "python",
   "nbconvert_exporter": "python",
   "pygments_lexer": "ipython3",
   "version": "3.9.7"
  }
 },
 "nbformat": 4,
 "nbformat_minor": 5
}
