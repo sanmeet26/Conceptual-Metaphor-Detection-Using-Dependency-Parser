{
 "cells": [
  {
   "cell_type": "code",
   "execution_count": 22,
   "id": "0892cf01",
   "metadata": {},
   "outputs": [],
   "source": [
    "# Import necessary libraries\n",
    "import torch\n",
    "import pandas as pd\n",
    "import numpy as np\n",
    "from transformers import BertTokenizer, BertModel\n",
    "from sklearn.model_selection import train_test_split\n",
    "from sklearn.metrics import accuracy_score"
   ]
  },
  {
   "cell_type": "code",
   "execution_count": 23,
   "id": "b2c57167",
   "metadata": {},
   "outputs": [
    {
     "name": "stdout",
     "output_type": "stream",
     "text": [
      "        Target       Attribute                    Source  labels\n",
      "0         face           black                      coal       1\n",
      "1        uncle           blind                       bat       1\n",
      "2        naina            cool                  cucumber       1\n",
      "3      soldier           brave                      lion       1\n",
      "4           he         cunning                       fox       1\n",
      "...        ...             ...                       ...     ...\n",
      "1810  Computer         Stylish              Sleek Design       0\n",
      "1811     Chair         Stylish      Decorative Stitching       0\n",
      "1812     Movie        Animated             Cartoon Style       0\n",
      "1813    Person            Kind       Empathetic Attitude       0\n",
      "1814   Vehicle  Fuel-efficient  Hybrid Engine Technology       0\n",
      "\n",
      "[1815 rows x 4 columns]\n"
     ]
    }
   ],
   "source": [
    "# Load knowledge graph triples and concept attribute collocations with labels\n",
    "data = pd.read_excel('C:/Users/sanmeet/Documents/4th_Year/4th_Year_Sem2/BTech_Project/code/knowledge_graph_triples_complete.xls')\n",
    "print(data)"
   ]
  },
  {
   "cell_type": "code",
   "execution_count": 24,
   "id": "e34b9a93",
   "metadata": {},
   "outputs": [],
   "source": [
    "# Split the data into train and test sets\n",
    "train_data, test_data = train_test_split(data, test_size=0.2, random_state=42)\n",
    "train_data = train_data.sample(frac=1).reset_index(drop=True)\n",
    "test_data = test_data.sample(frac=1).reset_index(drop=True)"
   ]
  },
  {
   "cell_type": "code",
   "execution_count": 25,
   "id": "5a7230a2",
   "metadata": {},
   "outputs": [],
   "source": [
    "# Load the BERT tokenizer and model\n",
    "tokenizer = BertTokenizer.from_pretrained('bert-base-uncased')\n",
    "model = BertModel.from_pretrained('bert-base-uncased')"
   ]
  },
  {
   "cell_type": "code",
   "execution_count": 26,
   "id": "2bb6979c",
   "metadata": {},
   "outputs": [],
   "source": [
    "# Define a function to encode the text into BERT embeddings\n",
    "def get_embeddings(text):\n",
    "  inputs = tokenizer(text, return_tensors='pt', padding=True, truncation=True)\n",
    "  outputs = model(**inputs)\n",
    "  embeddings = outputs.last_hidden_state.mean(dim=1).squeeze()\n",
    "  return embeddings.detach().numpy()"
   ]
  },
  {
   "cell_type": "code",
   "execution_count": 27,
   "id": "cef746b8",
   "metadata": {},
   "outputs": [],
   "source": [
    "# print(train_data['Target'])\n",
    "\n",
    "# Encode the target, attribute, and source columns into BERT embeddings\n",
    "train_embeddings = np.concatenate([get_embeddings(list(train_data['Target'])), \n",
    "                                   get_embeddings(list(train_data['Attribute'])), \n",
    "                                   get_embeddings(list(train_data['Source']))], axis=1)\n",
    "test_embeddings = np.concatenate([get_embeddings(list(test_data['Target'])), \n",
    "                                  get_embeddings(list(test_data['Attribute'])), \n",
    "                                  get_embeddings(list(test_data['Source']))], axis=1)"
   ]
  },
  {
   "cell_type": "code",
   "execution_count": 35,
   "id": "d3847697",
   "metadata": {},
   "outputs": [
    {
     "name": "stdout",
     "output_type": "stream",
     "text": [
      "[[-0.18574706 -0.03012958 -0.19486105 ...  0.08866606  0.03762847\n",
      "   0.17091021]\n",
      " [-0.2907276  -0.34988308 -0.03953591 ... -0.00091708 -0.13026695\n",
      "  -0.25560746]\n",
      " [ 0.24223495 -0.1106503   0.11134851 ... -0.01663986 -0.07298139\n",
      "   0.07672381]\n",
      " ...\n",
      " [-0.32128778  0.21084636 -0.3163085  ...  0.27484092 -0.00340685\n",
      "   0.06075066]\n",
      " [-0.00328109  0.12295499 -0.17521341 ...  0.15165162  0.00636819\n",
      "   0.00513058]\n",
      " [ 0.03335669 -0.13680516  0.09875403 ...  0.08146471  0.02225824\n",
      "   0.02497298]]\n"
     ]
    }
   ],
   "source": [
    "print(train_embeddings)"
   ]
  },
  {
   "cell_type": "code",
   "execution_count": 36,
   "id": "ca586d18",
   "metadata": {},
   "outputs": [],
   "source": [
    "# Define the model\n",
    "clf = torch.nn.Linear(train_embeddings.shape[1], 2)"
   ]
  },
  {
   "cell_type": "code",
   "execution_count": 38,
   "id": "981357c9",
   "metadata": {},
   "outputs": [],
   "source": [
    "# Train the model\n",
    "optimizer = torch.optim.Adam(clf.parameters())\n",
    "criterion = torch.nn.CrossEntropyLoss()\n",
    "num_epochs = 10\n",
    "for epoch in range(num_epochs):\n",
    "    optimizer.zero_grad()\n",
    "    outputs = clf(torch.tensor(train_embeddings).float())\n",
    "    loss = criterion(outputs, torch.tensor(train_data['labels']).long())\n",
    "    loss.backward()\n",
    "    optimizer.step()"
   ]
  },
  {
   "cell_type": "code",
   "execution_count": 70,
   "id": "f034a64b",
   "metadata": {},
   "outputs": [],
   "source": [
    "from sklearn.metrics import precision_score, recall_score, f1_score, confusion_matrix, roc_curve, roc_auc_score, auc\n",
    "import matplotlib.pyplot as plt"
   ]
  },
  {
   "cell_type": "code",
   "execution_count": 71,
   "id": "36cfab55",
   "metadata": {},
   "outputs": [],
   "source": [
    "# Evaluate the model\n",
    "predictions = clf(torch.tensor(test_embeddings).float()).argmax(dim=1)"
   ]
  },
  {
   "cell_type": "code",
   "execution_count": 72,
   "id": "e349700e",
   "metadata": {},
   "outputs": [
    {
     "name": "stdout",
     "output_type": "stream",
     "text": [
      "Accuracy: 0.9504132231404959\n"
     ]
    }
   ],
   "source": [
    "# Accuracy\n",
    "accuracy = accuracy_score(test_data['labels'], predictions)\n",
    "print(\"Accuracy:\", accuracy)"
   ]
  },
  {
   "cell_type": "code",
   "execution_count": 73,
   "id": "1212a2bf",
   "metadata": {},
   "outputs": [
    {
     "name": "stdout",
     "output_type": "stream",
     "text": [
      "Precision: 0.9475308641975309\n",
      "Recall: 0.9967532467532467\n",
      "F1 Score: 0.9715189873417721\n"
     ]
    }
   ],
   "source": [
    "# Calculate precision, recall, and F1 score\n",
    "precision = precision_score(test_data['labels'], predictions)\n",
    "recall = recall_score(test_data['labels'], predictions)\n",
    "f1 = f1_score(test_data['labels'], predictions)\n",
    "\n",
    "print(\"Precision:\", precision)\n",
    "print(\"Recall:\", recall)\n",
    "print(\"F1 Score:\", f1)"
   ]
  },
  {
   "cell_type": "code",
   "execution_count": 74,
   "id": "660ae84c",
   "metadata": {},
   "outputs": [
    {
     "name": "stdout",
     "output_type": "stream",
     "text": [
      "Confusion Matrix:\n",
      " [[ 38  17]\n",
      " [  1 307]]\n"
     ]
    }
   ],
   "source": [
    "confusion = confusion_matrix(test_data['labels'], predictions)\n",
    "\n",
    "print(\"Confusion Matrix:\\n\", confusion)"
   ]
  },
  {
   "cell_type": "code",
   "execution_count": 75,
   "id": "b37a9cd6",
   "metadata": {},
   "outputs": [
    {
     "data": {
      "image/png": "[encoded data removed]",
      "text/plain": [
       "<Figure size 432x288 with 1 Axes>"
      ]
     },
     "metadata": {
      "needs_background": "light"
     },
     "output_type": "display_data"
    },
    {
     "data": {
      "text/plain": [
       "<Figure size 432x288 with 0 Axes>"
      ]
     },
     "metadata": {},
     "output_type": "display_data"
    }
   ],
   "source": [
    "# Calculate ROC curve and AUC score\n",
    "\n",
    "fpr, tpr, _ = roc_curve(test_data['labels'], predictions)\n",
    "roc_auc = auc(fpr, tpr)\n",
    "\n",
    "plt.figure()\n",
    "lw = 2\n",
    "plt.plot(fpr, tpr, color='darkorange', lw=lw, label='ROC curve (area = %0.2f)' % roc_auc)\n",
    "plt.plot([0, 1], [0, 1], color='navy', lw=lw, linestyle='--')\n",
    "plt.xlim([0.0, 1.0])\n",
    "plt.ylim([0.0, 1.05])\n",
    "plt.xlabel('False Positive Rate')\n",
    "plt.ylabel('True Positive Rate')\n",
    "plt.title('Receiver operating characteristic')\n",
    "plt.legend(loc=\"lower right\")\n",
    "plt.show()\n",
    "plt.savefig('roc.png')"
   ]
  }
 ],
 "metadata": {
  "kernelspec": {
   "display_name": "Python 3 (ipykernel)",
   "language": "python",
   "name": "python3"
  },
  "language_info": {
   "codemirror_mode": {
    "name": "ipython",
    "version": 3
   },
   "file_extension": ".py",
   "mimetype": "text/x-python",
   "name": "python",
   "nbconvert_exporter": "python",
   "pygments_lexer": "ipython3",
   "version": "3.9.7"
  }
 },
 "nbformat": 4,
 "nbformat_minor": 5
}
